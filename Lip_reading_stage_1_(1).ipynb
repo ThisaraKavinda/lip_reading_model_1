{
  "cells": [
    {
      "cell_type": "markdown",
      "metadata": {
        "id": "view-in-github",
        "colab_type": "text"
      },
      "source": [
        "<a href=\"https://colab.research.google.com/github/ThisaraKavinda/lip_reading_model_1/blob/main/Lip_reading_stage_1_(1).ipynb\" target=\"_parent\"><img src=\"https://colab.research.google.com/assets/colab-badge.svg\" alt=\"Open In Colab\"/></a>"
      ]
    },
    {
      "cell_type": "markdown",
      "id": "a3573a47-3689-4668-b62f-5c8451b2b4e9",
      "metadata": {
        "tags": [],
        "id": "a3573a47-3689-4668-b62f-5c8451b2b4e9"
      },
      "source": [
        "# 0. Install and Import Dependencies"
      ]
    },
    {
      "cell_type": "code",
      "execution_count": 1,
      "id": "02f907ea-f669-46c7-adcf-7f257e663448",
      "metadata": {
        "tags": [],
        "id": "02f907ea-f669-46c7-adcf-7f257e663448"
      },
      "outputs": [],
      "source": [
        "# !pip install opencv-python matplotlib imageio gdown tensorflow"
      ]
    },
    {
      "cell_type": "code",
      "execution_count": 2,
      "id": "b24af50c-20b8-409d-ad78-30a933fdd669",
      "metadata": {
        "tags": [],
        "id": "b24af50c-20b8-409d-ad78-30a933fdd669"
      },
      "outputs": [],
      "source": [
        "import os\n",
        "import cv2\n",
        "import tensorflow as tf\n",
        "import numpy as np\n",
        "from typing import List\n",
        "from matplotlib import pyplot as plt\n",
        "import imageio"
      ]
    },
    {
      "cell_type": "code",
      "execution_count": 3,
      "id": "1e3db0b0-e559-4ad6-91fd-e7414b7d75e6",
      "metadata": {
        "id": "1e3db0b0-e559-4ad6-91fd-e7414b7d75e6",
        "colab": {
          "base_uri": "https://localhost:8080/"
        },
        "outputId": "32260ae3-f656-44c4-dbb7-f410e35aefc7"
      },
      "outputs": [
        {
          "output_type": "execute_result",
          "data": {
            "text/plain": [
              "[PhysicalDevice(name='/physical_device:GPU:0', device_type='GPU')]"
            ]
          },
          "metadata": {},
          "execution_count": 3
        }
      ],
      "source": [
        "tf.config.list_physical_devices('GPU')"
      ]
    },
    {
      "cell_type": "code",
      "execution_count": 4,
      "id": "378d045a-3003-4f93-b7d2-a25a97774a68",
      "metadata": {
        "tags": [],
        "id": "378d045a-3003-4f93-b7d2-a25a97774a68"
      },
      "outputs": [],
      "source": [
        "physical_devices = tf.config.list_physical_devices('GPU')\n",
        "try:\n",
        "    tf.config.experimental.set_memory_growth(physical_devices[0], True)\n",
        "except:\n",
        "    pass"
      ]
    },
    {
      "cell_type": "markdown",
      "id": "7a19e88e-c7b9-45c1-ae1e-f2109329c71b",
      "metadata": {
        "tags": [],
        "id": "7a19e88e-c7b9-45c1-ae1e-f2109329c71b"
      },
      "source": [
        "# 1. Build Data Loading Functions"
      ]
    },
    {
      "cell_type": "code",
      "execution_count": 5,
      "id": "8fb99c90-e05a-437f-839d-6e772f8c1dd5",
      "metadata": {
        "tags": [],
        "id": "8fb99c90-e05a-437f-839d-6e772f8c1dd5"
      },
      "outputs": [],
      "source": [
        "import gdown"
      ]
    },
    {
      "cell_type": "code",
      "execution_count": 6,
      "id": "c019e4c6-2af3-4160-99ea-5c8cb009f1a7",
      "metadata": {
        "tags": [],
        "id": "c019e4c6-2af3-4160-99ea-5c8cb009f1a7",
        "colab": {
          "base_uri": "https://localhost:8080/"
        },
        "outputId": "a744b26d-fca8-4a9a-c96b-5d7a8c4fe6cf"
      },
      "outputs": [
        {
          "output_type": "stream",
          "name": "stderr",
          "text": [
            "Downloading...\n",
            "From: https://drive.google.com/uc?id=1w5cMhO8jKakBHs-KIoux_OWwjU9JSJXR\n",
            "To: /content/data.zip\n",
            "100%|██████████| 143M/143M [00:00<00:00, 211MB/s]\n"
          ]
        },
        {
          "output_type": "execute_result",
          "data": {
            "text/plain": [
              "['data/',\n",
              " 'data/alignments/',\n",
              " 'data/alignments/s1/',\n",
              " 'data/alignments/s1/Aunty_01.align',\n",
              " 'data/alignments/s1/Aunty_02.align',\n",
              " 'data/alignments/s1/Aunty_03.align',\n",
              " 'data/alignments/s1/Aunty_04.align',\n",
              " 'data/alignments/s1/Aunty_05.align',\n",
              " 'data/alignments/s1/Aunty_06.align',\n",
              " 'data/alignments/s1/Aunty_07.align',\n",
              " 'data/alignments/s1/Aunty_08.align',\n",
              " 'data/alignments/s1/Aunty_09.align',\n",
              " 'data/alignments/s1/Aunty_10.align',\n",
              " 'data/alignments/s1/Deshitha_01.align',\n",
              " 'data/alignments/s1/Deshitha_02.align',\n",
              " 'data/alignments/s1/Deshitha_03.align',\n",
              " 'data/alignments/s1/Deshitha_04.align',\n",
              " 'data/alignments/s1/Deshitha_05.align',\n",
              " 'data/alignments/s1/Deshitha_06.align',\n",
              " 'data/alignments/s1/Deshitha_07.align',\n",
              " 'data/alignments/s1/Deshitha_08.align',\n",
              " 'data/alignments/s1/Deshitha_09.align',\n",
              " 'data/alignments/s1/Deshitha_10.align',\n",
              " 'data/alignments/s1/Hirusha_01.align',\n",
              " 'data/alignments/s1/Hirusha_02.align',\n",
              " 'data/alignments/s1/Hirusha_03.align',\n",
              " 'data/alignments/s1/Hirusha_04.align',\n",
              " 'data/alignments/s1/Hirusha_05.align',\n",
              " 'data/alignments/s1/Hirusha_06.align',\n",
              " 'data/alignments/s1/Hirusha_07.align',\n",
              " 'data/alignments/s1/Hirusha_08.align',\n",
              " 'data/alignments/s1/Hirusha_09.align',\n",
              " 'data/alignments/s1/Hirusha_10.align',\n",
              " 'data/alignments/s1/Maheesha_01.align',\n",
              " 'data/alignments/s1/Maheesha_02.align',\n",
              " 'data/alignments/s1/Maheesha_03.align',\n",
              " 'data/alignments/s1/Maheesha_04.align',\n",
              " 'data/alignments/s1/Maheesha_05.align',\n",
              " 'data/alignments/s1/Maheesha_06.align',\n",
              " 'data/alignments/s1/Maheesha_07.align',\n",
              " 'data/alignments/s1/Maheesha_08.align',\n",
              " 'data/alignments/s1/Maheesha_09.align',\n",
              " 'data/alignments/s1/Maheesha_10.align',\n",
              " 'data/alignments/s1/pamoda_1.align',\n",
              " 'data/alignments/s1/pamoda_10.align',\n",
              " 'data/alignments/s1/pamoda_2.align',\n",
              " 'data/alignments/s1/pamoda_3.align',\n",
              " 'data/alignments/s1/pamoda_4.align',\n",
              " 'data/alignments/s1/pamoda_5.align',\n",
              " 'data/alignments/s1/pamoda_6.align',\n",
              " 'data/alignments/s1/pamoda_7.align',\n",
              " 'data/alignments/s1/pamoda_8.align',\n",
              " 'data/alignments/s1/pamoda_9.align',\n",
              " 'data/alignments/s1/Ravindu_01.align',\n",
              " 'data/alignments/s1/Ravindu_02.align',\n",
              " 'data/alignments/s1/Ravindu_03.align',\n",
              " 'data/alignments/s1/Ravindu_04.align',\n",
              " 'data/alignments/s1/Ravindu_05.align',\n",
              " 'data/alignments/s1/Ravindu_06.align',\n",
              " 'data/alignments/s1/Ravindu_07.align',\n",
              " 'data/alignments/s1/Ravindu_08.align',\n",
              " 'data/alignments/s1/Ravindu_09.align',\n",
              " 'data/alignments/s1/Ravindu_10.align',\n",
              " 'data/alignments/s1/Sis_01.align',\n",
              " 'data/alignments/s1/Sis_02.align',\n",
              " 'data/alignments/s1/Sis_03.align',\n",
              " 'data/alignments/s1/Sis_04.align',\n",
              " 'data/alignments/s1/Sis_05.align',\n",
              " 'data/alignments/s1/Sis_06.align',\n",
              " 'data/alignments/s1/Sis_07.align',\n",
              " 'data/alignments/s1/Sis_08.align',\n",
              " 'data/alignments/s1/Sis_09.align',\n",
              " 'data/alignments/s1/Sis_10.align',\n",
              " 'data/alignments/s1/Uncle_01.align',\n",
              " 'data/alignments/s1/Uncle_02.align',\n",
              " 'data/alignments/s1/Uncle_03.align',\n",
              " 'data/alignments/s1/Uncle_04.align',\n",
              " 'data/alignments/s1/Uncle_05.align',\n",
              " 'data/alignments/s1/Uncle_06.align',\n",
              " 'data/alignments/s1/Uncle_07.align',\n",
              " 'data/alignments/s1/Uncle_08.align',\n",
              " 'data/alignments/s1/Uncle_09.align',\n",
              " 'data/alignments/s1/Uncle_10.align',\n",
              " 'data/s1/',\n",
              " 'data/s1/Aunty_01.mp4',\n",
              " 'data/s1/Aunty_02.mp4',\n",
              " 'data/s1/Aunty_03.mp4',\n",
              " 'data/s1/Aunty_04.mp4',\n",
              " 'data/s1/Aunty_05.mp4',\n",
              " 'data/s1/Aunty_06.mp4',\n",
              " 'data/s1/Aunty_07.mp4',\n",
              " 'data/s1/Aunty_08.mp4',\n",
              " 'data/s1/Aunty_09.mp4',\n",
              " 'data/s1/Aunty_10.mp4',\n",
              " 'data/s1/Deshitha_01.mp4',\n",
              " 'data/s1/Deshitha_02.mp4',\n",
              " 'data/s1/Deshitha_03.mp4',\n",
              " 'data/s1/Deshitha_04.mp4',\n",
              " 'data/s1/Deshitha_05.mp4',\n",
              " 'data/s1/Deshitha_06.mp4',\n",
              " 'data/s1/Deshitha_07.mp4',\n",
              " 'data/s1/Deshitha_08.mp4',\n",
              " 'data/s1/Deshitha_09.mp4',\n",
              " 'data/s1/Deshitha_10.mp4',\n",
              " 'data/s1/Hirusha_01.mp4',\n",
              " 'data/s1/Hirusha_02.mp4',\n",
              " 'data/s1/Hirusha_03.mp4',\n",
              " 'data/s1/Hirusha_04.mp4',\n",
              " 'data/s1/Hirusha_05.mp4',\n",
              " 'data/s1/Hirusha_06.mp4',\n",
              " 'data/s1/Hirusha_07.mp4',\n",
              " 'data/s1/Hirusha_08.mp4',\n",
              " 'data/s1/Hirusha_09.mp4',\n",
              " 'data/s1/Hirusha_10.mp4',\n",
              " 'data/s1/Maheesha_01.mp4',\n",
              " 'data/s1/Maheesha_02.mp4',\n",
              " 'data/s1/Maheesha_03.mp4',\n",
              " 'data/s1/Maheesha_04.mp4',\n",
              " 'data/s1/Maheesha_05.mp4',\n",
              " 'data/s1/Maheesha_06.mp4',\n",
              " 'data/s1/Maheesha_07.mp4',\n",
              " 'data/s1/Maheesha_08.mp4',\n",
              " 'data/s1/Maheesha_09.mp4',\n",
              " 'data/s1/Maheesha_10.mp4',\n",
              " 'data/s1/pamoda_1.mp4',\n",
              " 'data/s1/pamoda_10.mp4',\n",
              " 'data/s1/pamoda_2.mp4',\n",
              " 'data/s1/pamoda_3.mp4',\n",
              " 'data/s1/pamoda_4.mp4',\n",
              " 'data/s1/pamoda_5.mp4',\n",
              " 'data/s1/pamoda_6.mp4',\n",
              " 'data/s1/pamoda_7.mp4',\n",
              " 'data/s1/pamoda_8.mp4',\n",
              " 'data/s1/pamoda_9.mp4',\n",
              " 'data/s1/Ravindu_01.mp4',\n",
              " 'data/s1/Ravindu_02.mp4',\n",
              " 'data/s1/Ravindu_03.mp4',\n",
              " 'data/s1/Ravindu_04.mp4',\n",
              " 'data/s1/Ravindu_05.mp4',\n",
              " 'data/s1/Ravindu_06.mp4',\n",
              " 'data/s1/Ravindu_07.mp4',\n",
              " 'data/s1/Ravindu_08.mp4',\n",
              " 'data/s1/Ravindu_09.mp4',\n",
              " 'data/s1/Ravindu_10.mp4',\n",
              " 'data/s1/Sis_01.mp4',\n",
              " 'data/s1/Sis_02.mp4',\n",
              " 'data/s1/Sis_03.mp4',\n",
              " 'data/s1/Sis_04.mp4',\n",
              " 'data/s1/Sis_05.mp4',\n",
              " 'data/s1/Sis_06.mp4',\n",
              " 'data/s1/Sis_07.mp4',\n",
              " 'data/s1/Sis_08.mp4',\n",
              " 'data/s1/Sis_09.mp4',\n",
              " 'data/s1/Sis_10.mp4',\n",
              " 'data/s1/Uncle_01.mp4',\n",
              " 'data/s1/Uncle_02.mp4',\n",
              " 'data/s1/Uncle_03.mp4',\n",
              " 'data/s1/Uncle_04.mp4',\n",
              " 'data/s1/Uncle_05.mp4',\n",
              " 'data/s1/Uncle_06.mp4',\n",
              " 'data/s1/Uncle_07.mp4',\n",
              " 'data/s1/Uncle_08.mp4',\n",
              " 'data/s1/Uncle_09.mp4',\n",
              " 'data/s1/Uncle_10.mp4']"
            ]
          },
          "metadata": {},
          "execution_count": 6
        }
      ],
      "source": [
        "url = 'https://drive.google.com/uc?id=1w5cMhO8jKakBHs-KIoux_OWwjU9JSJXR'\n",
        "output = 'data.zip'\n",
        "gdown.download(url, output, quiet=False)\n",
        "gdown.extractall('data.zip')"
      ]
    },
    {
      "cell_type": "code",
      "execution_count": 7,
      "id": "8548cc59-6dfc-4acc-abc3-3e65212db02e",
      "metadata": {
        "tags": [],
        "id": "8548cc59-6dfc-4acc-abc3-3e65212db02e"
      },
      "outputs": [],
      "source": [
        "def load_video(path:str) -> List[float]:\n",
        "    # print(path)\n",
        "    cap = cv2.VideoCapture(path)\n",
        "    frame_count = int(cap.get(cv2.CAP_PROP_FRAME_COUNT))\n",
        "    if frame_count != 35:\n",
        "        raise ValueError(f\"Video {path} has {frame_count} frames, but it should have 35 frames.\")\n",
        "    frames = []\n",
        "    for _ in range(int(cap.get(cv2.CAP_PROP_FRAME_COUNT))):\n",
        "        ret, frame = cap.read()\n",
        "        # print(frame.shape, \"=====\", path)\n",
        "        try:\n",
        "            frame = tf.image.rgb_to_grayscale(frame)\n",
        "            frames.append(frame[650:850,250:500,:])\n",
        "        except tf.errors.InvalidArgumentError as e:\n",
        "            continue\n",
        "    cap.release()\n",
        "\n",
        "    mean = tf.math.reduce_mean(frames)\n",
        "    std = tf.math.reduce_std(tf.cast(frames, tf.float32))\n",
        "    return tf.cast((frames - mean), tf.float32) / std"
      ]
    },
    {
      "cell_type": "code",
      "execution_count": 8,
      "id": "ec735e0b-ec98-4eb0-8f49-c35527d6670a",
      "metadata": {
        "tags": [],
        "id": "ec735e0b-ec98-4eb0-8f49-c35527d6670a"
      },
      "outputs": [],
      "source": [
        "vocab = [\"එ\", \"ක\", \"දෙ\", \"තු\", \"න\", \"හ\", \"ත\", \"ර\", \"ප\", \"ය\", \"අ\", \"ට\", \"ම\", \"ද\"]"
      ]
    },
    {
      "cell_type": "code",
      "execution_count": 9,
      "id": "be04e972-d7a5-4a72-82d8-a6bdde1f3ce6",
      "metadata": {
        "tags": [],
        "id": "be04e972-d7a5-4a72-82d8-a6bdde1f3ce6",
        "colab": {
          "base_uri": "https://localhost:8080/"
        },
        "outputId": "93c34eee-24e9-4601-9838-abae67ebd5e8"
      },
      "outputs": [
        {
          "output_type": "stream",
          "name": "stdout",
          "text": [
            "The vocabulary is: ['', 'එ', 'ක', 'දෙ', 'තු', 'න', 'හ', 'ත', 'ර', 'ප', 'ය', 'අ', 'ට', 'ම', 'ද'] (size =15)\n"
          ]
        }
      ],
      "source": [
        "char_to_num = tf.keras.layers.StringLookup(vocabulary=vocab, oov_token=\"\")\n",
        "num_to_char = tf.keras.layers.StringLookup(\n",
        "    vocabulary=char_to_num.get_vocabulary(), oov_token=\"\", invert=True\n",
        ")\n",
        "\n",
        "print(\n",
        "    f\"The vocabulary is: {char_to_num.get_vocabulary()} \"\n",
        "    f\"(size ={char_to_num.vocabulary_size()})\"\n",
        ")"
      ]
    },
    {
      "cell_type": "code",
      "execution_count": 10,
      "id": "559f7420-6802-45fa-9ca0-b1ff209b461c",
      "metadata": {
        "tags": [],
        "id": "559f7420-6802-45fa-9ca0-b1ff209b461c",
        "colab": {
          "base_uri": "https://localhost:8080/"
        },
        "outputId": "244db112-620a-4c5c-adee-6c96d41c3e4c"
      },
      "outputs": [
        {
          "output_type": "execute_result",
          "data": {
            "text/plain": [
              "['', 'එ', 'ක', 'දෙ', 'තු', 'න', 'හ', 'ත', 'ර', 'ප', 'ය', 'අ', 'ට', 'ම', 'ද']"
            ]
          },
          "metadata": {},
          "execution_count": 10
        }
      ],
      "source": [
        "char_to_num.get_vocabulary()"
      ]
    },
    {
      "cell_type": "code",
      "execution_count": 11,
      "id": "797ff78b-b48f-4e14-bb62-8cd0ebf9501a",
      "metadata": {
        "tags": [],
        "id": "797ff78b-b48f-4e14-bb62-8cd0ebf9501a",
        "colab": {
          "base_uri": "https://localhost:8080/"
        },
        "outputId": "723d858b-eaa2-4319-e18c-3715b293fbd1"
      },
      "outputs": [
        {
          "output_type": "execute_result",
          "data": {
            "text/plain": [
              "<tf.Tensor: shape=(4,), dtype=int64, numpy=array([ 2,  8, 10,  0])>"
            ]
          },
          "metadata": {},
          "execution_count": 11
        }
      ],
      "source": [
        "char_to_num(['ක','ර','ය','k'])"
      ]
    },
    {
      "cell_type": "code",
      "execution_count": 12,
      "id": "8cd7f4f4-ae77-4509-a4f4-c723787ebad1",
      "metadata": {
        "id": "8cd7f4f4-ae77-4509-a4f4-c723787ebad1",
        "colab": {
          "base_uri": "https://localhost:8080/"
        },
        "outputId": "b2a3e52f-a0d8-4263-83be-df756eb5a1ee"
      },
      "outputs": [
        {
          "output_type": "execute_result",
          "data": {
            "text/plain": [
              "<tf.Tensor: shape=(4,), dtype=string, numpy=\n",
              "array([b'\\xe0\\xb6\\xaf', b'\\xe0\\xb6\\xb4', b'\\xe0\\xb6\\xaf\\xe0\\xb7\\x99',\n",
              "       b'\\xe0\\xb6\\x85'], dtype=object)>"
            ]
          },
          "metadata": {},
          "execution_count": 12
        }
      ],
      "source": [
        "num_to_char([14,  9,  3, 11])"
      ]
    },
    {
      "cell_type": "code",
      "source": [
        "num_to_char_result = num_to_char([14,  9,  3, 11])\n",
        "[char.decode('utf-8') for char in num_to_char_result.numpy()]"
      ],
      "metadata": {
        "colab": {
          "base_uri": "https://localhost:8080/"
        },
        "id": "5I88vZzM70L6",
        "outputId": "df718220-0acf-457e-fe92-8b74db474ca0"
      },
      "id": "5I88vZzM70L6",
      "execution_count": 13,
      "outputs": [
        {
          "output_type": "execute_result",
          "data": {
            "text/plain": [
              "['ද', 'ප', 'දෙ', 'අ']"
            ]
          },
          "metadata": {},
          "execution_count": 13
        }
      ]
    },
    {
      "cell_type": "code",
      "execution_count": 14,
      "id": "9491bab5-6a3c-4f79-879a-8f9fbe73ae2e",
      "metadata": {
        "tags": [],
        "id": "9491bab5-6a3c-4f79-879a-8f9fbe73ae2e"
      },
      "outputs": [],
      "source": [
        "def load_alignments(path:str) -> List[str]:\n",
        "    # with open(path, 'r') as f:\n",
        "    #     lines = f.readlines()\n",
        "    # tokens = []\n",
        "    # for line in lines:\n",
        "    #     line = line.split()\n",
        "    #     if line[2] != 'sil':\n",
        "    #         tokens = [*tokens,' ',line[2]]\n",
        "    # return char_to_num(tf.reshape(tf.strings.unicode_split(tokens, input_encoding='UTF-8'), (-1)))[1:]\n",
        "    with open(path, 'r') as f:\n",
        "      lines = f.readlines()\n",
        "    tokens = []\n",
        "    for line in lines:\n",
        "        line = line.strip()  # Remove leading/trailing whitespace from the line\n",
        "        # tokens = [*tokens,' ',line]\n",
        "        tokens.extend(list(line + ' '))\n",
        "    return char_to_num(tf.reshape(tf.strings.unicode_split(tokens, input_encoding='UTF-8'), (-1)))"
      ]
    },
    {
      "cell_type": "code",
      "execution_count": 15,
      "id": "dd01ca9f-77fb-4643-a2aa-47dd82c5d66b",
      "metadata": {
        "tags": [],
        "id": "dd01ca9f-77fb-4643-a2aa-47dd82c5d66b"
      },
      "outputs": [],
      "source": [
        "def load_data(path: str):\n",
        "    # print(path)\n",
        "    path = bytes.decode(path.numpy())\n",
        "    file_name = path.split('/')[-1].split('.')[0]\n",
        "    # File name splitting for windows\n",
        "    # file_name = path.split('\\\\')[-1].split('.')[0]\n",
        "    # print(file_name)\n",
        "    video_path = os.path.join('data','s1',f'{file_name}.mp4')\n",
        "    alignment_path = os.path.join('data','alignments','s1',f'{file_name}.align')\n",
        "    frames = load_video(video_path)\n",
        "    alignments = load_alignments(alignment_path)\n",
        "\n",
        "    return frames, alignments"
      ]
    },
    {
      "cell_type": "code",
      "execution_count": 16,
      "id": "8cb7cc58-31ae-4904-a805-1177a82717d2",
      "metadata": {
        "tags": [],
        "id": "8cb7cc58-31ae-4904-a805-1177a82717d2"
      },
      "outputs": [],
      "source": [
        "test_path = '/content/data/s1/Maheesha_02.mp4'"
      ]
    },
    {
      "cell_type": "code",
      "execution_count": 17,
      "id": "76aa964f-0c84-490d-897a-d00e3966e2c9",
      "metadata": {
        "id": "76aa964f-0c84-490d-897a-d00e3966e2c9",
        "colab": {
          "base_uri": "https://localhost:8080/",
          "height": 35
        },
        "outputId": "bc580376-6a36-4d31-e3e4-0b292b074882"
      },
      "outputs": [
        {
          "output_type": "execute_result",
          "data": {
            "text/plain": [
              "'/content/data/s1/Maheesha_02'"
            ],
            "application/vnd.google.colaboratory.intrinsic+json": {
              "type": "string"
            }
          },
          "metadata": {},
          "execution_count": 17
        }
      ],
      "source": [
        "tf.convert_to_tensor(test_path).numpy().decode('utf-8').split('\\\\')[-1].split('.')[0]"
      ]
    },
    {
      "cell_type": "code",
      "execution_count": 18,
      "id": "eb602c71-8560-4f9e-b26b-08202febb937",
      "metadata": {
        "scrolled": true,
        "tags": [],
        "id": "eb602c71-8560-4f9e-b26b-08202febb937"
      },
      "outputs": [],
      "source": [
        "frames, alignments = load_data(tf.convert_to_tensor(test_path))"
      ]
    },
    {
      "cell_type": "code",
      "source": [
        "frames.shape"
      ],
      "metadata": {
        "colab": {
          "base_uri": "https://localhost:8080/"
        },
        "id": "Gm1kcM8qJLQ4",
        "outputId": "89708bcd-8be1-4f40-ff0a-a3e78f17f2ff"
      },
      "id": "Gm1kcM8qJLQ4",
      "execution_count": 19,
      "outputs": [
        {
          "output_type": "execute_result",
          "data": {
            "text/plain": [
              "TensorShape([35, 200, 250, 1])"
            ]
          },
          "metadata": {},
          "execution_count": 19
        }
      ]
    },
    {
      "cell_type": "code",
      "execution_count": 20,
      "id": "0e3184a1-6b02-4b4f-84a8-a0a65f951ea2",
      "metadata": {
        "id": "0e3184a1-6b02-4b4f-84a8-a0a65f951ea2",
        "colab": {
          "base_uri": "https://localhost:8080/",
          "height": 451
        },
        "outputId": "bf321fb9-6b15-411d-c021-375c5b41091a"
      },
      "outputs": [
        {
          "output_type": "execute_result",
          "data": {
            "text/plain": [
              "<matplotlib.image.AxesImage at 0x7ae6b5def340>"
            ]
          },
          "metadata": {},
          "execution_count": 20
        },
        {
          "output_type": "display_data",
          "data": {
            "text/plain": [
              "<Figure size 640x480 with 1 Axes>"
            ],
            "image/png": "[encoded data removed]"
          },
          "metadata": {}
        }
      ],
      "source": [
        "plt.imshow(frames[8])"
      ]
    },
    {
      "cell_type": "code",
      "execution_count": 21,
      "id": "d7ec0833-d54b-4073-84cf-92d011c60ec1",
      "metadata": {
        "id": "d7ec0833-d54b-4073-84cf-92d011c60ec1",
        "colab": {
          "base_uri": "https://localhost:8080/"
        },
        "outputId": "723e3218-58cd-4c6c-c868-8e1bf7646f11"
      },
      "outputs": [
        {
          "output_type": "execute_result",
          "data": {
            "text/plain": [
              "<tf.Tensor: shape=(5,), dtype=int64, numpy=array([14,  0,  0,  2,  0])>"
            ]
          },
          "metadata": {},
          "execution_count": 21
        }
      ],
      "source": [
        "alignments"
      ]
    },
    {
      "cell_type": "code",
      "execution_count": 22,
      "id": "fe1ad370-b287-4b46-85a2-7c45b0bd9b10",
      "metadata": {
        "id": "fe1ad370-b287-4b46-85a2-7c45b0bd9b10",
        "colab": {
          "base_uri": "https://localhost:8080/"
        },
        "outputId": "157ef5ea-c260-4468-d598-7eca52a9d94b"
      },
      "outputs": [
        {
          "output_type": "execute_result",
          "data": {
            "text/plain": [
              "<tf.Tensor: shape=(), dtype=string, numpy=b'\\xe0\\xb6\\xaf\\xe0\\xb6\\x9a'>"
            ]
          },
          "metadata": {},
          "execution_count": 22
        }
      ],
      "source": [
        "tf.strings.reduce_join([bytes.decode(x) for x in num_to_char(alignments.numpy()).numpy()])"
      ]
    },
    {
      "cell_type": "code",
      "source": [
        "# num_to_char_result = num_to_char(alignments.numpy())\n",
        "# tf.strings.reduce_join([char.decode('utf-8') for char in num_to_char_result.numpy()])"
      ],
      "metadata": {
        "id": "zVLYlhpj9cnm"
      },
      "id": "zVLYlhpj9cnm",
      "execution_count": 23,
      "outputs": []
    },
    {
      "cell_type": "code",
      "execution_count": 24,
      "id": "6871031a-b0ba-4c76-a852-f6329b0f2606",
      "metadata": {
        "tags": [],
        "id": "6871031a-b0ba-4c76-a852-f6329b0f2606"
      },
      "outputs": [],
      "source": [
        "def mappable_function(path:str) ->List[str]:\n",
        "    result = tf.py_function(load_data, [path], (tf.float32, tf.int64))\n",
        "    return result"
      ]
    },
    {
      "cell_type": "markdown",
      "id": "c40a7eb4-0c3e-4eab-9291-5611cb68ce08",
      "metadata": {
        "tags": [],
        "id": "c40a7eb4-0c3e-4eab-9291-5611cb68ce08"
      },
      "source": [
        "# 2. Create Data Pipeline"
      ]
    },
    {
      "cell_type": "code",
      "execution_count": 25,
      "id": "7686355d-45aa-4c85-ad9c-053e6a9b4d81",
      "metadata": {
        "tags": [],
        "id": "7686355d-45aa-4c85-ad9c-053e6a9b4d81"
      },
      "outputs": [],
      "source": [
        "from matplotlib import pyplot as plt"
      ]
    },
    {
      "cell_type": "code",
      "execution_count": 26,
      "id": "f066fea2-91b1-42ed-a67d-00566a1a53ff",
      "metadata": {
        "tags": [],
        "id": "f066fea2-91b1-42ed-a67d-00566a1a53ff",
        "colab": {
          "base_uri": "https://localhost:8080/"
        },
        "outputId": "b5e5a0aa-b8ae-477d-cb6e-6fe527258b2a"
      },
      "outputs": [
        {
          "output_type": "stream",
          "name": "stdout",
          "text": [
            "<_ShuffleDataset element_spec=TensorSpec(shape=(), dtype=tf.string, name=None)>\n"
          ]
        }
      ],
      "source": [
        "data = tf.data.Dataset.list_files('./data/s1/*.mp4')\n",
        "print(data)\n",
        "# data = data.shuffle(500, reshuffle_each_iteration=False)\n",
        "data = data.map(mappable_function)\n",
        "data = data.padded_batch(2, padded_shapes=([35,None,None,None],[14]))\n",
        "data = data.prefetch(tf.data.AUTOTUNE)\n",
        "# Added for split\n",
        "train = data.take(15)\n",
        "test = data.skip(5)"
      ]
    },
    {
      "cell_type": "code",
      "execution_count": 27,
      "id": "6b1365bd-7742-41d1-95d4-247021751c3a",
      "metadata": {
        "id": "6b1365bd-7742-41d1-95d4-247021751c3a",
        "colab": {
          "base_uri": "https://localhost:8080/"
        },
        "outputId": "e02d5e23-7998-4ac1-99da-ea48c3d3cacd"
      },
      "outputs": [
        {
          "output_type": "execute_result",
          "data": {
            "text/plain": [
              "35"
            ]
          },
          "metadata": {},
          "execution_count": 27
        }
      ],
      "source": [
        "len(test)"
      ]
    },
    {
      "cell_type": "code",
      "execution_count": 28,
      "id": "5281bde8-fdc8-4da1-bd55-5a7929a9e80c",
      "metadata": {
        "id": "5281bde8-fdc8-4da1-bd55-5a7929a9e80c"
      },
      "outputs": [],
      "source": [
        "frames, alignments = data.as_numpy_iterator().next()"
      ]
    },
    {
      "cell_type": "code",
      "source": [
        "alignments"
      ],
      "metadata": {
        "colab": {
          "base_uri": "https://localhost:8080/"
        },
        "id": "j-rHEE7cYbMe",
        "outputId": "43d06134-b93a-434d-d2d9-d229dfc5d9bb"
      },
      "id": "j-rHEE7cYbMe",
      "execution_count": 29,
      "outputs": [
        {
          "output_type": "execute_result",
          "data": {
            "text/plain": [
              "array([[6, 0, 7, 0, 0, 0, 0, 0, 0, 0, 0, 0, 0, 0],\n",
              "       [6, 0, 7, 0, 0, 0, 0, 0, 0, 0, 0, 0, 0, 0]])"
            ]
          },
          "metadata": {},
          "execution_count": 29
        }
      ]
    },
    {
      "cell_type": "code",
      "execution_count": 30,
      "id": "cbebe683-6afd-47fd-bba4-c83b4b13bb32",
      "metadata": {
        "id": "cbebe683-6afd-47fd-bba4-c83b4b13bb32",
        "colab": {
          "base_uri": "https://localhost:8080/"
        },
        "outputId": "54353345-83eb-4786-ab3e-01833cff2acb"
      },
      "outputs": [
        {
          "output_type": "execute_result",
          "data": {
            "text/plain": [
              "2"
            ]
          },
          "metadata": {},
          "execution_count": 30
        }
      ],
      "source": [
        "len(frames)"
      ]
    },
    {
      "cell_type": "code",
      "execution_count": 31,
      "id": "5cf2d676-93a9-434c-b3c7-bdcc2577b2e7",
      "metadata": {
        "tags": [],
        "id": "5cf2d676-93a9-434c-b3c7-bdcc2577b2e7"
      },
      "outputs": [],
      "source": [
        "sample = data.as_numpy_iterator()"
      ]
    },
    {
      "cell_type": "code",
      "execution_count": 32,
      "id": "efa6cd46-7079-46c0-b45b-832f339f6cb0",
      "metadata": {
        "scrolled": true,
        "tags": [],
        "id": "efa6cd46-7079-46c0-b45b-832f339f6cb0"
      },
      "outputs": [],
      "source": [
        "val = sample.next();"
      ]
    },
    {
      "cell_type": "code",
      "execution_count": 33,
      "id": "acf5eb4f-a0da-4a9a-bf24-af13e9cc2fbe",
      "metadata": {
        "tags": [],
        "id": "acf5eb4f-a0da-4a9a-bf24-af13e9cc2fbe"
      },
      "outputs": [],
      "source": [
        "# imageio.mimsave('./animation.gif', val[0][0], fps=10)"
      ]
    },
    {
      "cell_type": "code",
      "execution_count": 34,
      "id": "c33a87a2-d5e0-4ec9-b174-73ebf41bf03a",
      "metadata": {
        "tags": [],
        "id": "c33a87a2-d5e0-4ec9-b174-73ebf41bf03a",
        "outputId": "25091a4a-f1ac-4a36-c4cf-f7234ce7f891",
        "colab": {
          "base_uri": "https://localhost:8080/",
          "height": 451
        }
      },
      "outputs": [
        {
          "output_type": "execute_result",
          "data": {
            "text/plain": [
              "<matplotlib.image.AxesImage at 0x7ae6b2632f50>"
            ]
          },
          "metadata": {},
          "execution_count": 34
        },
        {
          "output_type": "display_data",
          "data": {
            "text/plain": [
              "<Figure size 640x480 with 1 Axes>"
            ],
            "image/png": "[encoded data removed]"
          },
          "metadata": {}
        }
      ],
      "source": [
        "# 0:videos, 0: 1st video out of the batch,  0: return the first frame in the video\n",
        "plt.imshow(val[0][0][1])"
      ]
    },
    {
      "cell_type": "code",
      "execution_count": 35,
      "id": "84593332-133c-4205-b7a6-8e235d5e2b3b",
      "metadata": {
        "tags": [],
        "id": "84593332-133c-4205-b7a6-8e235d5e2b3b",
        "outputId": "7430640a-933f-4ce2-8520-76fa1570491b",
        "colab": {
          "base_uri": "https://localhost:8080/"
        }
      },
      "outputs": [
        {
          "output_type": "execute_result",
          "data": {
            "text/plain": [
              "<tf.Tensor: shape=(), dtype=string, numpy=b'\\xe0\\xb7\\x84\\xe0\\xb6\\xad'>"
            ]
          },
          "metadata": {},
          "execution_count": 35
        }
      ],
      "source": [
        "tf.strings.reduce_join([num_to_char(word) for word in val[1][0]])"
      ]
    },
    {
      "cell_type": "code",
      "source": [
        "# num_to_char_result = tf.strings.reduce_join([num_to_char(word) for word in val[1][0]])\n",
        "# [char.decode('utf-8') for char in num_to_char_result.numpy()]"
      ],
      "metadata": {
        "id": "xby62cNx_cqA"
      },
      "id": "xby62cNx_cqA",
      "execution_count": 36,
      "outputs": []
    },
    {
      "cell_type": "markdown",
      "id": "0f47733c-83bc-465c-b118-b198b492ad37",
      "metadata": {
        "tags": [],
        "id": "0f47733c-83bc-465c-b118-b198b492ad37"
      },
      "source": [
        "# 3. Design the Deep Neural Network"
      ]
    },
    {
      "cell_type": "code",
      "execution_count": 37,
      "id": "d8e9a497-191b-4842-afbd-26f5e13c43ba",
      "metadata": {
        "tags": [],
        "id": "d8e9a497-191b-4842-afbd-26f5e13c43ba"
      },
      "outputs": [],
      "source": [
        "\n",
        "from tensorflow.keras.models import Sequential\n",
        "from tensorflow.keras.layers import Conv3D, LSTM, Dense, Dropout, Bidirectional, MaxPool3D, Activation, Reshape, SpatialDropout3D, BatchNormalization, TimeDistributed, Flatten\n",
        "from tensorflow.keras.optimizers import Adam\n",
        "from tensorflow.keras.callbacks import ModelCheckpoint, LearningRateScheduler"
      ]
    },
    {
      "cell_type": "code",
      "execution_count": 38,
      "id": "3f753ed2-70b9-4236-8c1c-08ca065dc8bf",
      "metadata": {
        "id": "3f753ed2-70b9-4236-8c1c-08ca065dc8bf"
      },
      "outputs": [],
      "source": [
        "# data.as_numpy_iterator().next()[0][0].shape"
      ]
    },
    {
      "cell_type": "code",
      "execution_count": 39,
      "id": "f9171056-a352-491a-9ed9-92b28ced268e",
      "metadata": {
        "tags": [],
        "id": "f9171056-a352-491a-9ed9-92b28ced268e"
      },
      "outputs": [],
      "source": [
        "model = Sequential()\n",
        "model.add(Conv3D(128, 3, input_shape=(35,200,250,1), padding='same'))\n",
        "model.add(Activation('relu'))\n",
        "model.add(MaxPool3D((1,2,2)))\n",
        "\n",
        "model.add(Conv3D(256, 3, padding='same'))\n",
        "model.add(Activation('relu'))\n",
        "model.add(MaxPool3D((1,2,2)))\n",
        "\n",
        "model.add(Conv3D(35, 3, padding='same'))\n",
        "model.add(Activation('relu'))\n",
        "model.add(MaxPool3D((1,2,2)))\n",
        "\n",
        "model.add(TimeDistributed(Flatten()))\n",
        "\n",
        "model.add(Bidirectional(LSTM(128, kernel_initializer='Orthogonal', return_sequences=True)))\n",
        "model.add(Dropout(.5))\n",
        "\n",
        "model.add(Bidirectional(LSTM(128, kernel_initializer='Orthogonal', return_sequences=True)))\n",
        "model.add(Dropout(.5))\n",
        "\n",
        "model.add(Dense(char_to_num.vocabulary_size()+1, kernel_initializer='he_normal', activation='softmax'))\n",
        "\n",
        "# model.add(TimeDistributed(Dense(1, activation='softmax')))\n",
        "\n",
        "# model = Sequential()\n",
        "# model.add(Conv3D(128, (3, 5, 7), input_shape=(35, 200, 250, 1), padding='same'))\n",
        "# model.add(Activation('relu'))\n",
        "# model.add(MaxPool3D((1, 2, 2)))\n",
        "\n",
        "# model.add(Conv3D(256, (3, 5, 7), padding='same'))\n",
        "# model.add(Activation('relu'))\n",
        "# model.add(MaxPool3D((1, 2, 2)))\n",
        "\n",
        "# model.add(Conv3D(75, (3, 5, 7), padding='same'))\n",
        "# model.add(Activation('relu'))\n",
        "# model.add(MaxPool3D((1, 2, 2)))\n",
        "\n",
        "# model.add(TimeDistributed(Flatten()))\n",
        "\n",
        "# model.add(Bidirectional(LSTM(16, kernel_initializer='Orthogonal', return_sequences=True)))\n",
        "# model.add(Dropout(0.5))\n",
        "\n",
        "# model.add(Bidirectional(LSTM(16, kernel_initializer='Orthogonal', return_sequences=True)))\n",
        "# model.add(Dropout(0.5))\n",
        "\n",
        "# model.add(Bidirectional(LSTM(16, kernel_initializer='Orthogonal', return_sequences=True, recurrent_dropout=0.5)))\n",
        "\n",
        "# model.add(Bidirectional(LSTM(16, kernel_initializer='Orthogonal', return_sequences=True, recurrent_dropout=0.5)))\n",
        "\n",
        "# model.add(Dense(char_to_num.vocabulary_size() + 1, kernel_initializer='he_normal', activation='softmax'))\n"
      ]
    },
    {
      "cell_type": "code",
      "execution_count": 40,
      "id": "78851825-2bcd-42a9-b7f2-28bb5a6bf43a",
      "metadata": {
        "collapsed": true,
        "jupyter": {
          "outputs_hidden": true
        },
        "tags": [],
        "id": "78851825-2bcd-42a9-b7f2-28bb5a6bf43a",
        "outputId": "33c56a90-0317-443a-e480-773a50e0e40d",
        "colab": {
          "base_uri": "https://localhost:8080/"
        }
      },
      "outputs": [
        {
          "output_type": "stream",
          "name": "stdout",
          "text": [
            "Model: \"sequential\"\n",
            "_________________________________________________________________\n",
            " Layer (type)                Output Shape              Param #   \n",
            "=================================================================\n",
            " conv3d (Conv3D)             (None, 35, 200, 250, 12   3584      \n",
            "                             8)                                  \n",
            "                                                                 \n",
            " activation (Activation)     (None, 35, 200, 250, 12   0         \n",
            "                             8)                                  \n",
            "                                                                 \n",
            " max_pooling3d (MaxPooling3  (None, 35, 100, 125, 12   0         \n",
            " D)                          8)                                  \n",
            "                                                                 \n",
            " conv3d_1 (Conv3D)           (None, 35, 100, 125, 25   884992    \n",
            "                             6)                                  \n",
            "                                                                 \n",
            " activation_1 (Activation)   (None, 35, 100, 125, 25   0         \n",
            "                             6)                                  \n",
            "                                                                 \n",
            " max_pooling3d_1 (MaxPoolin  (None, 35, 50, 62, 256)   0         \n",
            " g3D)                                                            \n",
            "                                                                 \n",
            " conv3d_2 (Conv3D)           (None, 35, 50, 62, 35)    241955    \n",
            "                                                                 \n",
            " activation_2 (Activation)   (None, 35, 50, 62, 35)    0         \n",
            "                                                                 \n",
            " max_pooling3d_2 (MaxPoolin  (None, 35, 25, 31, 35)    0         \n",
            " g3D)                                                            \n",
            "                                                                 \n",
            " time_distributed (TimeDist  (None, 35, 27125)         0         \n",
            " ributed)                                                        \n",
            "                                                                 \n",
            " bidirectional (Bidirection  (None, 35, 256)           27908096  \n",
            " al)                                                             \n",
            "                                                                 \n",
            " dropout (Dropout)           (None, 35, 256)           0         \n",
            "                                                                 \n",
            " bidirectional_1 (Bidirecti  (None, 35, 256)           394240    \n",
            " onal)                                                           \n",
            "                                                                 \n",
            " dropout_1 (Dropout)         (None, 35, 256)           0         \n",
            "                                                                 \n",
            " dense (Dense)               (None, 35, 16)            4112      \n",
            "                                                                 \n",
            "=================================================================\n",
            "Total params: 29436979 (112.29 MB)\n",
            "Trainable params: 29436979 (112.29 MB)\n",
            "Non-trainable params: 0 (0.00 Byte)\n",
            "_________________________________________________________________\n"
          ]
        }
      ],
      "source": [
        "model.summary()"
      ]
    },
    {
      "cell_type": "code",
      "execution_count": 41,
      "id": "f4b4798c-a65a-4c47-9e2a-3b09dc98d320",
      "metadata": {
        "id": "f4b4798c-a65a-4c47-9e2a-3b09dc98d320",
        "colab": {
          "base_uri": "https://localhost:8080/"
        },
        "outputId": "7965ef4c-06cb-441b-a3ea-1ce0549dc634"
      },
      "outputs": [
        {
          "output_type": "execute_result",
          "data": {
            "text/plain": [
              "6375"
            ]
          },
          "metadata": {},
          "execution_count": 41
        }
      ],
      "source": [
        "5*17*75"
      ]
    },
    {
      "cell_type": "code",
      "execution_count": 42,
      "id": "e5c2eae0-c359-41a4-97a0-75c44dccb7d1",
      "metadata": {
        "tags": [],
        "id": "e5c2eae0-c359-41a4-97a0-75c44dccb7d1",
        "outputId": "511a98a8-eca9-412f-d1ae-8f438bb053e2",
        "colab": {
          "base_uri": "https://localhost:8080/"
        }
      },
      "outputs": [
        {
          "output_type": "stream",
          "name": "stdout",
          "text": [
            "1/1 [==============================] - 14s 14s/step\n"
          ]
        }
      ],
      "source": [
        "yhat = model.predict(val[0])"
      ]
    },
    {
      "cell_type": "code",
      "source": [
        "yhat.shape"
      ],
      "metadata": {
        "colab": {
          "base_uri": "https://localhost:8080/"
        },
        "id": "EI2_qamOYwTo",
        "outputId": "822daa3b-bc78-4c3f-9d3a-760ecf12fe82"
      },
      "id": "EI2_qamOYwTo",
      "execution_count": 43,
      "outputs": [
        {
          "output_type": "execute_result",
          "data": {
            "text/plain": [
              "(2, 35, 16)"
            ]
          },
          "metadata": {},
          "execution_count": 43
        }
      ]
    },
    {
      "cell_type": "code",
      "source": [
        "yhat[0]"
      ],
      "metadata": {
        "id": "R8xhtUESZwiP",
        "colab": {
          "base_uri": "https://localhost:8080/"
        },
        "outputId": "7f6aee31-eb7b-4111-b1d7-5ef861b0f84e"
      },
      "id": "R8xhtUESZwiP",
      "execution_count": 44,
      "outputs": [
        {
          "output_type": "execute_result",
          "data": {
            "text/plain": [
              "array([[0.07492136, 0.06597367, 0.062203  , 0.06947292, 0.07357564,\n",
              "        0.0719874 , 0.05756678, 0.05127202, 0.0591073 , 0.05598297,\n",
              "        0.0660136 , 0.05901103, 0.05333322, 0.04963887, 0.06524244,\n",
              "        0.06469779],\n",
              "       [0.07229652, 0.06538098, 0.06120817, 0.07290724, 0.07204296,\n",
              "        0.07944542, 0.0564479 , 0.05205717, 0.05976909, 0.0573358 ,\n",
              "        0.06804215, 0.05592493, 0.05399625, 0.0461797 , 0.06547946,\n",
              "        0.06148631],\n",
              "       [0.06994615, 0.06573397, 0.05979794, 0.07676794, 0.07125764,\n",
              "        0.08525605, 0.05636023, 0.05267977, 0.05975624, 0.05783313,\n",
              "        0.0698334 , 0.0535797 , 0.05396774, 0.04331375, 0.06573464,\n",
              "        0.05818171],\n",
              "       [0.06871022, 0.06632262, 0.05740928, 0.08024529, 0.07072166,\n",
              "        0.09075363, 0.05656677, 0.05294363, 0.06012792, 0.05759979,\n",
              "        0.0708553 , 0.05118406, 0.05471326, 0.0409521 , 0.0650991 ,\n",
              "        0.05579535],\n",
              "       [0.06754128, 0.06710543, 0.05497129, 0.08339735, 0.07046769,\n",
              "        0.09428357, 0.05651007, 0.05324423, 0.0600627 , 0.05711496,\n",
              "        0.07253713, 0.04931059, 0.05522697, 0.0393227 , 0.06485356,\n",
              "        0.05405045],\n",
              "       [0.06675671, 0.06801857, 0.05275699, 0.08547945, 0.06991053,\n",
              "        0.09779838, 0.05636947, 0.05307075, 0.06032096, 0.05649878,\n",
              "        0.07365002, 0.04797832, 0.05585821, 0.03805067, 0.06479125,\n",
              "        0.05269095],\n",
              "       [0.06653902, 0.06884106, 0.05090607, 0.08767904, 0.06930576,\n",
              "        0.10046922, 0.05628677, 0.0530066 , 0.06090187, 0.0553603 ,\n",
              "        0.07440695, 0.04680565, 0.05617001, 0.03695646, 0.06458077,\n",
              "        0.05178441],\n",
              "       [0.06681094, 0.06959113, 0.04946165, 0.08977098, 0.06861595,\n",
              "        0.10311361, 0.05615399, 0.05213984, 0.06163723, 0.05406782,\n",
              "        0.07512422, 0.04538362, 0.05637272, 0.03631502, 0.06430991,\n",
              "        0.05113136],\n",
              "       [0.06689057, 0.07002273, 0.04823469, 0.09129064, 0.06801376,\n",
              "        0.1049249 , 0.05599269, 0.05118176, 0.06226619, 0.05284593,\n",
              "        0.07560802, 0.04484196, 0.0568593 , 0.03590959, 0.06437482,\n",
              "        0.05074241],\n",
              "       [0.0671067 , 0.07039844, 0.04709523, 0.09326423, 0.06741587,\n",
              "        0.10604286, 0.05574573, 0.05032165, 0.06254039, 0.05180886,\n",
              "        0.0758163 , 0.04469924, 0.05680932, 0.03544245, 0.0647527 ,\n",
              "        0.05073999],\n",
              "       [0.06754321, 0.07043343, 0.04648039, 0.09486187, 0.0671198 ,\n",
              "        0.10679087, 0.05561945, 0.04963403, 0.06294718, 0.0507597 ,\n",
              "        0.07590736, 0.04448391, 0.05676732, 0.03501418, 0.06506067,\n",
              "        0.05057665],\n",
              "       [0.06844916, 0.07035942, 0.04642288, 0.09537002, 0.06683705,\n",
              "        0.10731325, 0.05540439, 0.04904725, 0.06317678, 0.04997836,\n",
              "        0.07622657, 0.04432969, 0.05665661, 0.03439114, 0.06568447,\n",
              "        0.05035287],\n",
              "       [0.06923321, 0.07007116, 0.04633527, 0.09559844, 0.06696837,\n",
              "        0.10824042, 0.05517058, 0.04879058, 0.06348358, 0.04937986,\n",
              "        0.07637313, 0.04425227, 0.0566755 , 0.0335417 , 0.06589717,\n",
              "        0.04998882],\n",
              "       [0.06974167, 0.06952644, 0.04602788, 0.09515175, 0.06688759,\n",
              "        0.10958968, 0.05528833, 0.04811944, 0.06410757, 0.04931726,\n",
              "        0.07609076, 0.04412723, 0.05670018, 0.03303153, 0.06663841,\n",
              "        0.04965433],\n",
              "       [0.06951662, 0.06874608, 0.04582751, 0.09526449, 0.06702713,\n",
              "        0.11109792, 0.05549072, 0.04766109, 0.06446503, 0.04971224,\n",
              "        0.07658878, 0.04360496, 0.05640062, 0.03270473, 0.06674924,\n",
              "        0.04914287],\n",
              "       [0.06925793, 0.06849007, 0.04574782, 0.09564456, 0.06695083,\n",
              "        0.11300348, 0.05568323, 0.04742402, 0.06460094, 0.04989091,\n",
              "        0.0763953 , 0.04313408, 0.05575102, 0.03238367, 0.06691311,\n",
              "        0.04872901],\n",
              "       [0.06944985, 0.06807196, 0.04573014, 0.09595271, 0.06657169,\n",
              "        0.11404884, 0.05556862, 0.0470906 , 0.06500143, 0.04984877,\n",
              "        0.07641218, 0.04258534, 0.05538994, 0.03196636, 0.06757084,\n",
              "        0.0487407 ],\n",
              "       [0.06899632, 0.06793311, 0.04548307, 0.09629565, 0.06679539,\n",
              "        0.11569495, 0.05581291, 0.04712365, 0.065294  , 0.04998083,\n",
              "        0.07534963, 0.04209872, 0.05491612, 0.03181215, 0.06792814,\n",
              "        0.0484853 ],\n",
              "       [0.0689261 , 0.0674296 , 0.04540001, 0.09616221, 0.06635411,\n",
              "        0.11663403, 0.05649785, 0.04737147, 0.06534874, 0.05031119,\n",
              "        0.07470836, 0.04162424, 0.05479703, 0.03171039, 0.06837851,\n",
              "        0.04834618],\n",
              "       [0.06914418, 0.06652752, 0.04565338, 0.09616714, 0.0660886 ,\n",
              "        0.11668665, 0.05714088, 0.04726776, 0.06574497, 0.05045294,\n",
              "        0.0736279 , 0.04138396, 0.05507497, 0.03172003, 0.06888636,\n",
              "        0.04843283],\n",
              "       [0.06875806, 0.06572624, 0.04577954, 0.09664609, 0.06566821,\n",
              "        0.11742388, 0.05735432, 0.04704678, 0.06614268, 0.05043731,\n",
              "        0.07311626, 0.04103555, 0.05618893, 0.03143849, 0.06899185,\n",
              "        0.04824587],\n",
              "       [0.06805081, 0.0648852 , 0.04592775, 0.09717   , 0.06546815,\n",
              "        0.11828351, 0.05776662, 0.04701986, 0.06643485, 0.05038798,\n",
              "        0.07229873, 0.04043722, 0.05728923, 0.03117737, 0.06949701,\n",
              "        0.0479056 ],\n",
              "       [0.06722601, 0.06435383, 0.04573398, 0.09730981, 0.06539223,\n",
              "        0.11894951, 0.0583119 , 0.04679478, 0.06614944, 0.05065591,\n",
              "        0.07233706, 0.03984326, 0.05889751, 0.03098285, 0.06974325,\n",
              "        0.04731866],\n",
              "       [0.06583759, 0.06419648, 0.0462092 , 0.09717938, 0.06614146,\n",
              "        0.1190781 , 0.05828779, 0.04699895, 0.06593043, 0.05071664,\n",
              "        0.07204279, 0.03925158, 0.06041802, 0.03092493, 0.06974898,\n",
              "        0.04703762],\n",
              "       [0.06470493, 0.06436137, 0.04640185, 0.09755325, 0.06696558,\n",
              "        0.11892804, 0.05843995, 0.04703022, 0.06536289, 0.05086937,\n",
              "        0.07226823, 0.03865989, 0.06160189, 0.03116217, 0.06904273,\n",
              "        0.0466476 ],\n",
              "       [0.06295124, 0.0645294 , 0.04659596, 0.09815724, 0.06771798,\n",
              "        0.11845653, 0.05929874, 0.04734648, 0.06446461, 0.05116714,\n",
              "        0.07231644, 0.03814515, 0.06277091, 0.03133637, 0.06842552,\n",
              "        0.04632023],\n",
              "       [0.06133657, 0.0650275 , 0.04650156, 0.09939645, 0.06811922,\n",
              "        0.11744408, 0.06033777, 0.04757909, 0.06365055, 0.05130884,\n",
              "        0.07247979, 0.03791932, 0.06427803, 0.0317837 , 0.06705757,\n",
              "        0.04578002],\n",
              "       [0.05983254, 0.0654169 , 0.0466777 , 0.10020437, 0.06814426,\n",
              "        0.11547564, 0.06137468, 0.04782422, 0.06305432, 0.05201805,\n",
              "        0.07244047, 0.03785978, 0.06561337, 0.03241331, 0.06599378,\n",
              "        0.04565663],\n",
              "       [0.05804652, 0.0658441 , 0.04664057, 0.09996985, 0.06767804,\n",
              "        0.11466614, 0.06270377, 0.04792472, 0.06253359, 0.05297033,\n",
              "        0.07220666, 0.03787692, 0.06722322, 0.03325629, 0.0647831 ,\n",
              "        0.0456761 ],\n",
              "       [0.05630741, 0.06626249, 0.04651328, 0.09951367, 0.06724988,\n",
              "        0.11345293, 0.06399678, 0.04808728, 0.06206339, 0.05412894,\n",
              "        0.0721079 , 0.03811668, 0.06862592, 0.03404969, 0.06382302,\n",
              "        0.04570081],\n",
              "       [0.05482057, 0.06644851, 0.04651219, 0.09844957, 0.06716125,\n",
              "        0.11214184, 0.06448258, 0.04859013, 0.06177013, 0.05532453,\n",
              "        0.0721411 , 0.0384679 , 0.07011738, 0.03491591, 0.0631275 ,\n",
              "        0.04552891],\n",
              "       [0.05359355, 0.06703244, 0.04660673, 0.09727471, 0.06634436,\n",
              "        0.11058552, 0.06522506, 0.04931297, 0.06180542, 0.05644729,\n",
              "        0.07218621, 0.03899128, 0.07131415, 0.03607228, 0.06182367,\n",
              "        0.04538436],\n",
              "       [0.05301008, 0.06790303, 0.04677416, 0.0950715 , 0.06463118,\n",
              "        0.10867066, 0.06604436, 0.04958827, 0.06242485, 0.05731378,\n",
              "        0.07182185, 0.03993868, 0.07295381, 0.03751764, 0.06090053,\n",
              "        0.04543563],\n",
              "       [0.05360177, 0.0699646 , 0.04736752, 0.09206036, 0.06280493,\n",
              "        0.10594728, 0.06642155, 0.0494866 , 0.06314655, 0.05757378,\n",
              "        0.07097469, 0.04092284, 0.07303891, 0.03980134, 0.06093756,\n",
              "        0.04594973],\n",
              "       [0.05470126, 0.07196318, 0.04790681, 0.08985389, 0.06004725,\n",
              "        0.10179728, 0.06716581, 0.05029534, 0.06445682, 0.05683729,\n",
              "        0.06940875, 0.0425928 , 0.07129262, 0.04191683, 0.06253675,\n",
              "        0.04722727]], dtype=float32)"
            ]
          },
          "metadata": {},
          "execution_count": 44
        }
      ]
    },
    {
      "cell_type": "code",
      "source": [
        "tf.strings.reduce_join([num_to_char(x) for x in tf.argmax(yhat[0],axis=1)])"
      ],
      "metadata": {
        "colab": {
          "base_uri": "https://localhost:8080/"
        },
        "id": "eHP3RkKwBm72",
        "outputId": "919e939c-18c5-4658-9058-6e9a6614521f"
      },
      "id": "eHP3RkKwBm72",
      "execution_count": 45,
      "outputs": [
        {
          "output_type": "execute_result",
          "data": {
            "text/plain": [
              "<tf.Tensor: shape=(), dtype=string, numpy=b'\\xe0\\xb6\\xb1\\xe0\\xb6\\xb1\\xe0\\xb6\\xb1\\xe0\\xb6\\xb1\\xe0\\xb6\\xb1\\xe0\\xb6\\xb1\\xe0\\xb6\\xb1\\xe0\\xb6\\xb1\\xe0\\xb6\\xb1\\xe0\\xb6\\xb1\\xe0\\xb6\\xb1\\xe0\\xb6\\xb1\\xe0\\xb6\\xb1\\xe0\\xb6\\xb1\\xe0\\xb6\\xb1\\xe0\\xb6\\xb1\\xe0\\xb6\\xb1\\xe0\\xb6\\xb1\\xe0\\xb6\\xb1\\xe0\\xb6\\xb1\\xe0\\xb6\\xb1\\xe0\\xb6\\xb1\\xe0\\xb6\\xb1\\xe0\\xb6\\xb1\\xe0\\xb6\\xb1\\xe0\\xb6\\xb1\\xe0\\xb6\\xb1\\xe0\\xb6\\xb1\\xe0\\xb6\\xb1\\xe0\\xb6\\xb1\\xe0\\xb6\\xb1\\xe0\\xb6\\xb1\\xe0\\xb6\\xb1\\xe0\\xb6\\xb1'>"
            ]
          },
          "metadata": {},
          "execution_count": 45
        }
      ]
    },
    {
      "cell_type": "code",
      "source": [
        "tf.strings.reduce_join([num_to_char(tf.argmax(x)) for x in yhat[0]])"
      ],
      "metadata": {
        "colab": {
          "base_uri": "https://localhost:8080/"
        },
        "id": "w-Cpnm9tBsfw",
        "outputId": "3e46832a-4ff7-4330-d1e0-afa46da8f43c"
      },
      "id": "w-Cpnm9tBsfw",
      "execution_count": 46,
      "outputs": [
        {
          "output_type": "execute_result",
          "data": {
            "text/plain": [
              "<tf.Tensor: shape=(), dtype=string, numpy=b'\\xe0\\xb6\\xb1\\xe0\\xb6\\xb1\\xe0\\xb6\\xb1\\xe0\\xb6\\xb1\\xe0\\xb6\\xb1\\xe0\\xb6\\xb1\\xe0\\xb6\\xb1\\xe0\\xb6\\xb1\\xe0\\xb6\\xb1\\xe0\\xb6\\xb1\\xe0\\xb6\\xb1\\xe0\\xb6\\xb1\\xe0\\xb6\\xb1\\xe0\\xb6\\xb1\\xe0\\xb6\\xb1\\xe0\\xb6\\xb1\\xe0\\xb6\\xb1\\xe0\\xb6\\xb1\\xe0\\xb6\\xb1\\xe0\\xb6\\xb1\\xe0\\xb6\\xb1\\xe0\\xb6\\xb1\\xe0\\xb6\\xb1\\xe0\\xb6\\xb1\\xe0\\xb6\\xb1\\xe0\\xb6\\xb1\\xe0\\xb6\\xb1\\xe0\\xb6\\xb1\\xe0\\xb6\\xb1\\xe0\\xb6\\xb1\\xe0\\xb6\\xb1\\xe0\\xb6\\xb1\\xe0\\xb6\\xb1\\xe0\\xb6\\xb1'>"
            ]
          },
          "metadata": {},
          "execution_count": 46
        }
      ]
    },
    {
      "cell_type": "code",
      "source": [
        "# b = tf.argmax(yhat[0],axis=1)\n",
        "# b"
      ],
      "metadata": {
        "id": "BDkc9lU9bQmE"
      },
      "id": "BDkc9lU9bQmE",
      "execution_count": 47,
      "outputs": []
    },
    {
      "cell_type": "code",
      "source": [
        "# tf.argmax(b)"
      ],
      "metadata": {
        "id": "XBmcBO6Obcnr"
      },
      "id": "XBmcBO6Obcnr",
      "execution_count": 48,
      "outputs": []
    },
    {
      "cell_type": "code",
      "source": [
        "# tf.strings.reduce_join([num_to_char(x) for x in tf.argmax(yhat[0],axis=1)])"
      ],
      "metadata": {
        "id": "su6Et_eF2val"
      },
      "id": "su6Et_eF2val",
      "execution_count": 49,
      "outputs": []
    },
    {
      "cell_type": "code",
      "source": [
        "# tf.strings.reduce_join([num_to_char(tf.argmax(x)) for x in yhat[0]])"
      ],
      "metadata": {
        "id": "i3skF2CS2zn6"
      },
      "id": "i3skF2CS2zn6",
      "execution_count": 50,
      "outputs": []
    },
    {
      "cell_type": "code",
      "source": [
        "# num_to_char(tf.argmax(yhat[0],axis=1))"
      ],
      "metadata": {
        "id": "Zv1kYxC5bK5i"
      },
      "id": "Zv1kYxC5bK5i",
      "execution_count": 51,
      "outputs": []
    },
    {
      "cell_type": "code",
      "execution_count": 52,
      "id": "ffdc7319-0d69-4f7e-a6d4-ce72deb81c0b",
      "metadata": {
        "id": "ffdc7319-0d69-4f7e-a6d4-ce72deb81c0b"
      },
      "outputs": [],
      "source": [
        "# tf.strings.reduce_join([num_to_char(tf.argmax(yhat[0],axis=1))])"
      ]
    },
    {
      "cell_type": "code",
      "execution_count": 53,
      "id": "6ed47531-8317-4255-9a12-b757642258e6",
      "metadata": {
        "tags": [],
        "id": "6ed47531-8317-4255-9a12-b757642258e6"
      },
      "outputs": [],
      "source": [
        "# tf.strings.reduce_join([num_to_char(tf.argmax(yhat[0]))])"
      ]
    },
    {
      "cell_type": "code",
      "execution_count": 54,
      "id": "7c37b9b9-5298-4038-9c33-5031d1b457f0",
      "metadata": {
        "tags": [],
        "id": "7c37b9b9-5298-4038-9c33-5031d1b457f0",
        "outputId": "7cc8b121-2ed9-4d97-d657-88d55f1f942c",
        "colab": {
          "base_uri": "https://localhost:8080/"
        }
      },
      "outputs": [
        {
          "output_type": "execute_result",
          "data": {
            "text/plain": [
              "(None, 35, 200, 250, 1)"
            ]
          },
          "metadata": {},
          "execution_count": 54
        }
      ],
      "source": [
        "model.input_shape"
      ]
    },
    {
      "cell_type": "code",
      "execution_count": 55,
      "id": "98b316a4-5322-4782-8e36-4b3c1a696d85",
      "metadata": {
        "tags": [],
        "id": "98b316a4-5322-4782-8e36-4b3c1a696d85",
        "outputId": "5e7f0a9c-b759-4599-ab80-e0d441ddddfd",
        "colab": {
          "base_uri": "https://localhost:8080/"
        }
      },
      "outputs": [
        {
          "output_type": "execute_result",
          "data": {
            "text/plain": [
              "(None, 35, 16)"
            ]
          },
          "metadata": {},
          "execution_count": 55
        }
      ],
      "source": [
        "model.output_shape"
      ]
    },
    {
      "cell_type": "markdown",
      "id": "2ec02176-5c26-46c3-aff7-8352e6563c7d",
      "metadata": {
        "tags": [],
        "id": "2ec02176-5c26-46c3-aff7-8352e6563c7d"
      },
      "source": [
        "# 4. Setup Training Options and Train"
      ]
    },
    {
      "cell_type": "code",
      "execution_count": 56,
      "id": "ab015fd0-7fb4-4d5d-9fa2-30a05dbd515a",
      "metadata": {
        "tags": [],
        "id": "ab015fd0-7fb4-4d5d-9fa2-30a05dbd515a"
      },
      "outputs": [],
      "source": [
        "def scheduler(epoch, lr):\n",
        "    if epoch < 20:\n",
        "        return lr\n",
        "    else:\n",
        "        return lr * tf.math.exp(-0.1)"
      ]
    },
    {
      "cell_type": "code",
      "execution_count": 57,
      "id": "c564d5c9-db54-4e88-b311-9aeab7fb3e69",
      "metadata": {
        "tags": [],
        "id": "c564d5c9-db54-4e88-b311-9aeab7fb3e69"
      },
      "outputs": [],
      "source": [
        "def CTCLoss(y_true, y_pred):\n",
        "    # print(y_true, \"y_true\")\n",
        "    # print(y_pred, \"y_pred\")\n",
        "    batch_len = tf.cast(tf.shape(y_true)[0], dtype=\"int32\")\n",
        "    input_length = tf.cast(tf.shape(y_pred)[1], dtype=\"int32\")\n",
        "    label_length = tf.cast(tf.shape(y_true)[1], dtype=\"int32\")\n",
        "    # print(label_length, \"label_length\")\n",
        "\n",
        "    input_length = input_length * tf.ones(shape=(batch_len, 1), dtype=\"int32\")\n",
        "    label_length = label_length * tf.ones(shape=(batch_len, 1), dtype=\"int32\")\n",
        "\n",
        "    loss = tf.keras.backend.ctc_batch_cost(y_true, y_pred, input_length, label_length)\n",
        "    return loss"
      ]
    },
    {
      "cell_type": "code",
      "execution_count": 58,
      "id": "a26dc3fc-a19c-4378-bd8c-e2b597a1d15c",
      "metadata": {
        "tags": [],
        "id": "a26dc3fc-a19c-4378-bd8c-e2b597a1d15c"
      },
      "outputs": [],
      "source": [
        "class ProduceExample(tf.keras.callbacks.Callback):\n",
        "    def __init__(self, dataset) -> None:\n",
        "        self.dataset = dataset.as_numpy_iterator()\n",
        "\n",
        "    def on_epoch_end(self, epoch, logs=None) -> None:\n",
        "        # data = self.dataset.next()\n",
        "\n",
        "        try:\n",
        "            data = self.dataset.next()\n",
        "        except StopIteration:  # Handle the end of the iterator\n",
        "            self.dataset = self.dataset.repeat()\n",
        "            self.dataset = self.dataset.as_numpy_iterator()  # Re-initialize the iterator\n",
        "            data = self.dataset.next()\n",
        "\n",
        "        yhat = self.model.predict(data[0])\n",
        "        # print(data[1][:], \"data\")\n",
        "        # print(yhat, \"yhat_on_epoch_end\")\n",
        "        decoded = tf.keras.backend.ctc_decode(yhat, [35,35], greedy=False)[0][0].numpy()\n",
        "        for x in range(len(yhat)):\n",
        "            print('Original:', tf.strings.reduce_join(num_to_char(data[1][x])).numpy().decode('utf-8'))\n",
        "            print('Prediction:', tf.strings.reduce_join(num_to_char(decoded[x])).numpy().decode('utf-8'))\n",
        "            print('~'*100)"
      ]
    },
    {
      "cell_type": "code",
      "execution_count": 59,
      "id": "04be90d8-2482-46f9-b513-d5f4f8001c7e",
      "metadata": {
        "tags": [],
        "id": "04be90d8-2482-46f9-b513-d5f4f8001c7e"
      },
      "outputs": [],
      "source": [
        "model.compile(optimizer=Adam(learning_rate=0.0001, clipvalue=0.5), loss=CTCLoss)\n",
        "# model.compile(optimizer='adam', loss='categorical_crossentropy', metrics=['accuracy'])\n",
        "# model.compile(optimizer=Adam(learning_rate=0.0001), loss='categorical_crossentropy')"
      ]
    },
    {
      "cell_type": "code",
      "execution_count": 60,
      "id": "eab49367-3f1e-4464-ae76-dbd07549d97e",
      "metadata": {
        "tags": [],
        "id": "eab49367-3f1e-4464-ae76-dbd07549d97e"
      },
      "outputs": [],
      "source": [
        "checkpoint_callback = ModelCheckpoint(os.path.join('models','checkpoint'), monitor='loss', save_weights_only=True)"
      ]
    },
    {
      "cell_type": "code",
      "execution_count": 61,
      "id": "e085a632-d464-46ef-8777-959cad4adb2c",
      "metadata": {
        "tags": [],
        "id": "e085a632-d464-46ef-8777-959cad4adb2c"
      },
      "outputs": [],
      "source": [
        "schedule_callback = LearningRateScheduler(scheduler)"
      ]
    },
    {
      "cell_type": "code",
      "execution_count": 62,
      "id": "48eca991-90ab-4592-8a79-b50e9ca015b6",
      "metadata": {
        "tags": [],
        "id": "48eca991-90ab-4592-8a79-b50e9ca015b6"
      },
      "outputs": [],
      "source": [
        "example_callback = ProduceExample(test)"
      ]
    },
    {
      "cell_type": "code",
      "source": [
        "tf.debugging.disable_traceback_filtering()"
      ],
      "metadata": {
        "id": "bXZkd9Sr_NIF"
      },
      "id": "bXZkd9Sr_NIF",
      "execution_count": 63,
      "outputs": []
    },
    {
      "cell_type": "code",
      "execution_count": 64,
      "id": "8ffba483-aa61-4bbe-a15f-a73e1ddf097c",
      "metadata": {
        "tags": [],
        "id": "8ffba483-aa61-4bbe-a15f-a73e1ddf097c",
        "outputId": "9ff9babd-a7d0-4246-89a6-ae33af8fc64d",
        "colab": {
          "base_uri": "https://localhost:8080/"
        }
      },
      "outputs": [
        {
          "output_type": "stream",
          "name": "stdout",
          "text": [
            "Epoch 1/15\n",
            "1/1 [==============================] - 4s 4s/step\n",
            "Original: හය\n",
            "Prediction: \n",
            "~~~~~~~~~~~~~~~~~~~~~~~~~~~~~~~~~~~~~~~~~~~~~~~~~~~~~~~~~~~~~~~~~~~~~~~~~~~~~~~~~~~~~~~~~~~~~~~~~~~~\n",
            "Original: එක\n",
            "Prediction: \n",
            "~~~~~~~~~~~~~~~~~~~~~~~~~~~~~~~~~~~~~~~~~~~~~~~~~~~~~~~~~~~~~~~~~~~~~~~~~~~~~~~~~~~~~~~~~~~~~~~~~~~~\n",
            "15/15 [==============================] - 153s 7s/step - loss: 21.4144 - val_loss: 15.1462 - lr: 0.0010\n",
            "Epoch 2/15\n",
            "1/1 [==============================] - 1s 612ms/step\n",
            "Original: පහ\n",
            "Prediction: \n",
            "~~~~~~~~~~~~~~~~~~~~~~~~~~~~~~~~~~~~~~~~~~~~~~~~~~~~~~~~~~~~~~~~~~~~~~~~~~~~~~~~~~~~~~~~~~~~~~~~~~~~\n",
            "Original: දහය\n",
            "Prediction: \n",
            "~~~~~~~~~~~~~~~~~~~~~~~~~~~~~~~~~~~~~~~~~~~~~~~~~~~~~~~~~~~~~~~~~~~~~~~~~~~~~~~~~~~~~~~~~~~~~~~~~~~~\n",
            "15/15 [==============================] - 91s 6s/step - loss: 14.4373 - val_loss: 13.1772 - lr: 0.0010\n",
            "Epoch 3/15\n",
            "1/1 [==============================] - 1s 658ms/step\n",
            "Original: හත\n",
            "Prediction: \n",
            "~~~~~~~~~~~~~~~~~~~~~~~~~~~~~~~~~~~~~~~~~~~~~~~~~~~~~~~~~~~~~~~~~~~~~~~~~~~~~~~~~~~~~~~~~~~~~~~~~~~~\n",
            "Original: දහය\n",
            "Prediction: \n",
            "~~~~~~~~~~~~~~~~~~~~~~~~~~~~~~~~~~~~~~~~~~~~~~~~~~~~~~~~~~~~~~~~~~~~~~~~~~~~~~~~~~~~~~~~~~~~~~~~~~~~\n",
            "15/15 [==============================] - 95s 7s/step - loss: 12.7701 - val_loss: 12.3567 - lr: 0.0010\n",
            "Epoch 4/15\n",
            "1/1 [==============================] - 1s 630ms/step\n",
            "Original: තන\n",
            "Prediction: \n",
            "~~~~~~~~~~~~~~~~~~~~~~~~~~~~~~~~~~~~~~~~~~~~~~~~~~~~~~~~~~~~~~~~~~~~~~~~~~~~~~~~~~~~~~~~~~~~~~~~~~~~\n",
            "Original: නමය\n",
            "Prediction: \n",
            "~~~~~~~~~~~~~~~~~~~~~~~~~~~~~~~~~~~~~~~~~~~~~~~~~~~~~~~~~~~~~~~~~~~~~~~~~~~~~~~~~~~~~~~~~~~~~~~~~~~~\n",
            "15/15 [==============================] - 96s 7s/step - loss: 11.9810 - val_loss: 11.6201 - lr: 0.0010\n",
            "Epoch 5/15\n",
            "1/1 [==============================] - 1s 625ms/step\n",
            "Original: නමය\n",
            "Prediction: \n",
            "~~~~~~~~~~~~~~~~~~~~~~~~~~~~~~~~~~~~~~~~~~~~~~~~~~~~~~~~~~~~~~~~~~~~~~~~~~~~~~~~~~~~~~~~~~~~~~~~~~~~\n",
            "Original: අට\n",
            "Prediction: \n",
            "~~~~~~~~~~~~~~~~~~~~~~~~~~~~~~~~~~~~~~~~~~~~~~~~~~~~~~~~~~~~~~~~~~~~~~~~~~~~~~~~~~~~~~~~~~~~~~~~~~~~\n",
            "15/15 [==============================] - 94s 7s/step - loss: 11.7885 - val_loss: 11.1243 - lr: 0.0010\n",
            "Epoch 6/15\n",
            "1/1 [==============================] - 1s 629ms/step\n",
            "Original: දහය\n",
            "Prediction: \n",
            "~~~~~~~~~~~~~~~~~~~~~~~~~~~~~~~~~~~~~~~~~~~~~~~~~~~~~~~~~~~~~~~~~~~~~~~~~~~~~~~~~~~~~~~~~~~~~~~~~~~~\n",
            "Original: තන\n",
            "Prediction: \n",
            "~~~~~~~~~~~~~~~~~~~~~~~~~~~~~~~~~~~~~~~~~~~~~~~~~~~~~~~~~~~~~~~~~~~~~~~~~~~~~~~~~~~~~~~~~~~~~~~~~~~~\n",
            "15/15 [==============================] - 95s 7s/step - loss: 11.8918 - val_loss: 11.2392 - lr: 0.0010\n",
            "Epoch 7/15\n",
            "1/1 [==============================] - 1s 634ms/step\n",
            "Original: දක\n",
            "Prediction: \n",
            "~~~~~~~~~~~~~~~~~~~~~~~~~~~~~~~~~~~~~~~~~~~~~~~~~~~~~~~~~~~~~~~~~~~~~~~~~~~~~~~~~~~~~~~~~~~~~~~~~~~~\n",
            "Original: හතර\n",
            "Prediction: \n",
            "~~~~~~~~~~~~~~~~~~~~~~~~~~~~~~~~~~~~~~~~~~~~~~~~~~~~~~~~~~~~~~~~~~~~~~~~~~~~~~~~~~~~~~~~~~~~~~~~~~~~\n",
            "15/15 [==============================] - 95s 7s/step - loss: 11.3982 - val_loss: 11.0830 - lr: 9.0484e-04\n",
            "Epoch 8/15\n",
            "1/1 [==============================] - 1s 635ms/step\n",
            "Original: පහ\n",
            "Prediction: \n",
            "~~~~~~~~~~~~~~~~~~~~~~~~~~~~~~~~~~~~~~~~~~~~~~~~~~~~~~~~~~~~~~~~~~~~~~~~~~~~~~~~~~~~~~~~~~~~~~~~~~~~\n",
            "Original: නමය\n",
            "Prediction: \n",
            "~~~~~~~~~~~~~~~~~~~~~~~~~~~~~~~~~~~~~~~~~~~~~~~~~~~~~~~~~~~~~~~~~~~~~~~~~~~~~~~~~~~~~~~~~~~~~~~~~~~~\n",
            "15/15 [==============================] - 96s 7s/step - loss: 11.1702 - val_loss: 10.8664 - lr: 8.1873e-04\n",
            "Epoch 9/15\n",
            "1/1 [==============================] - 1s 673ms/step\n",
            "Original: තන\n",
            "Prediction: \n",
            "~~~~~~~~~~~~~~~~~~~~~~~~~~~~~~~~~~~~~~~~~~~~~~~~~~~~~~~~~~~~~~~~~~~~~~~~~~~~~~~~~~~~~~~~~~~~~~~~~~~~\n",
            "Original: හතර\n",
            "Prediction: \n",
            "~~~~~~~~~~~~~~~~~~~~~~~~~~~~~~~~~~~~~~~~~~~~~~~~~~~~~~~~~~~~~~~~~~~~~~~~~~~~~~~~~~~~~~~~~~~~~~~~~~~~\n",
            "15/15 [==============================] - 97s 7s/step - loss: 11.4215 - val_loss: 10.8178 - lr: 7.4082e-04\n",
            "Epoch 10/15\n",
            "1/1 [==============================] - 1s 666ms/step\n",
            "Original: හය\n",
            "Prediction: \n",
            "~~~~~~~~~~~~~~~~~~~~~~~~~~~~~~~~~~~~~~~~~~~~~~~~~~~~~~~~~~~~~~~~~~~~~~~~~~~~~~~~~~~~~~~~~~~~~~~~~~~~\n",
            "Original: එක\n",
            "Prediction: \n",
            "~~~~~~~~~~~~~~~~~~~~~~~~~~~~~~~~~~~~~~~~~~~~~~~~~~~~~~~~~~~~~~~~~~~~~~~~~~~~~~~~~~~~~~~~~~~~~~~~~~~~\n",
            "15/15 [==============================] - 96s 7s/step - loss: 11.0654 - val_loss: 10.7117 - lr: 6.7032e-04\n",
            "Epoch 11/15\n",
            "1/1 [==============================] - 1s 771ms/step\n",
            "Original: හය\n",
            "Prediction: \n",
            "~~~~~~~~~~~~~~~~~~~~~~~~~~~~~~~~~~~~~~~~~~~~~~~~~~~~~~~~~~~~~~~~~~~~~~~~~~~~~~~~~~~~~~~~~~~~~~~~~~~~\n",
            "Original: තන\n",
            "Prediction: \n",
            "~~~~~~~~~~~~~~~~~~~~~~~~~~~~~~~~~~~~~~~~~~~~~~~~~~~~~~~~~~~~~~~~~~~~~~~~~~~~~~~~~~~~~~~~~~~~~~~~~~~~\n",
            "15/15 [==============================] - 95s 7s/step - loss: 11.0415 - val_loss: 10.7295 - lr: 6.0653e-04\n",
            "Epoch 12/15\n",
            "1/1 [==============================] - 1s 662ms/step\n",
            "Original: දහය\n",
            "Prediction: \n",
            "~~~~~~~~~~~~~~~~~~~~~~~~~~~~~~~~~~~~~~~~~~~~~~~~~~~~~~~~~~~~~~~~~~~~~~~~~~~~~~~~~~~~~~~~~~~~~~~~~~~~\n",
            "Original: අට\n",
            "Prediction: \n",
            "~~~~~~~~~~~~~~~~~~~~~~~~~~~~~~~~~~~~~~~~~~~~~~~~~~~~~~~~~~~~~~~~~~~~~~~~~~~~~~~~~~~~~~~~~~~~~~~~~~~~\n",
            "15/15 [==============================] - 96s 7s/step - loss: 11.2763 - val_loss: 10.7668 - lr: 5.4881e-04\n",
            "Epoch 13/15\n",
            "1/1 [==============================] - 1s 661ms/step\n",
            "Original: දක\n",
            "Prediction: \n",
            "~~~~~~~~~~~~~~~~~~~~~~~~~~~~~~~~~~~~~~~~~~~~~~~~~~~~~~~~~~~~~~~~~~~~~~~~~~~~~~~~~~~~~~~~~~~~~~~~~~~~\n",
            "Original: පහ\n",
            "Prediction: \n",
            "~~~~~~~~~~~~~~~~~~~~~~~~~~~~~~~~~~~~~~~~~~~~~~~~~~~~~~~~~~~~~~~~~~~~~~~~~~~~~~~~~~~~~~~~~~~~~~~~~~~~\n",
            "15/15 [==============================] - 125s 9s/step - loss: 10.9380 - val_loss: 10.5332 - lr: 4.9659e-04\n",
            "Epoch 14/15\n",
            "1/1 [==============================] - 1s 667ms/step\n",
            "Original: දක\n",
            "Prediction: \n",
            "~~~~~~~~~~~~~~~~~~~~~~~~~~~~~~~~~~~~~~~~~~~~~~~~~~~~~~~~~~~~~~~~~~~~~~~~~~~~~~~~~~~~~~~~~~~~~~~~~~~~\n",
            "Original: හතර\n",
            "Prediction: \n",
            "~~~~~~~~~~~~~~~~~~~~~~~~~~~~~~~~~~~~~~~~~~~~~~~~~~~~~~~~~~~~~~~~~~~~~~~~~~~~~~~~~~~~~~~~~~~~~~~~~~~~\n",
            "15/15 [==============================] - 95s 7s/step - loss: 10.8082 - val_loss: 10.4985 - lr: 4.4933e-04\n",
            "Epoch 15/15\n",
            "1/1 [==============================] - 1s 645ms/step\n",
            "Original: දක\n",
            "Prediction: හ\n",
            "~~~~~~~~~~~~~~~~~~~~~~~~~~~~~~~~~~~~~~~~~~~~~~~~~~~~~~~~~~~~~~~~~~~~~~~~~~~~~~~~~~~~~~~~~~~~~~~~~~~~\n",
            "Original: හත\n",
            "Prediction: හ\n",
            "~~~~~~~~~~~~~~~~~~~~~~~~~~~~~~~~~~~~~~~~~~~~~~~~~~~~~~~~~~~~~~~~~~~~~~~~~~~~~~~~~~~~~~~~~~~~~~~~~~~~\n",
            "15/15 [==============================] - 95s 7s/step - loss: 10.6690 - val_loss: 10.4343 - lr: 4.0657e-04\n"
          ]
        },
        {
          "output_type": "execute_result",
          "data": {
            "text/plain": [
              "<keras.src.callbacks.History at 0x7ae6b5d6b5e0>"
            ]
          },
          "metadata": {},
          "execution_count": 64
        }
      ],
      "source": [
        "model.fit(train, validation_data=test, epochs=50, callbacks=[checkpoint_callback, schedule_callback, example_callback])\n",
        "# model.fit(train, validation_data=test, epochs=100)"
      ]
    },
    {
      "cell_type": "markdown",
      "id": "fa8ee94b-89f7-4733-8a0c-a86f86ff590a",
      "metadata": {
        "tags": [],
        "id": "fa8ee94b-89f7-4733-8a0c-a86f86ff590a"
      },
      "source": [
        "# 5. Make a Prediction"
      ]
    },
    {
      "cell_type": "code",
      "execution_count": 65,
      "id": "01fa7204-ce0e-49a8-8dbd-14fe5dfead40",
      "metadata": {
        "tags": [],
        "id": "01fa7204-ce0e-49a8-8dbd-14fe5dfead40"
      },
      "outputs": [],
      "source": [
        "# url = 'https://drive.google.com/uc?id=1vWscXs4Vt0a_1IH1-ct2TCgXAZT-N3_Y'\n",
        "# output = 'checkpoints.zip'\n",
        "# gdown.download(url, output, quiet=False)\n",
        "# gdown.extractall('checkpoints.zip', 'models')"
      ]
    },
    {
      "cell_type": "code",
      "execution_count": 66,
      "id": "247f664d-3c87-4e96-946e-930dad0e1c2c",
      "metadata": {
        "tags": [],
        "id": "247f664d-3c87-4e96-946e-930dad0e1c2c"
      },
      "outputs": [],
      "source": [
        "# model.load_weights('models/checkpoint')"
      ]
    },
    {
      "cell_type": "code",
      "execution_count": 67,
      "id": "7f8d689f-b7bb-443c-9b88-e40c1d800828",
      "metadata": {
        "tags": [],
        "id": "7f8d689f-b7bb-443c-9b88-e40c1d800828"
      },
      "outputs": [],
      "source": [
        "# test_data = test.as_numpy_iterator()"
      ]
    },
    {
      "cell_type": "code",
      "execution_count": 68,
      "id": "38546dc2-bee9-4837-864b-8a884df40ad7",
      "metadata": {
        "tags": [],
        "id": "38546dc2-bee9-4837-864b-8a884df40ad7"
      },
      "outputs": [],
      "source": [
        "# sample = test_data.next()"
      ]
    },
    {
      "cell_type": "code",
      "execution_count": 69,
      "id": "a43621f0-229d-4c0d-9554-9c3a3da9c61a",
      "metadata": {
        "tags": [],
        "id": "a43621f0-229d-4c0d-9554-9c3a3da9c61a"
      },
      "outputs": [],
      "source": [
        "# yhat = model.predict(sample[0])"
      ]
    },
    {
      "cell_type": "code",
      "execution_count": 70,
      "id": "ea462999-f87e-4a7e-a057-5be7b6d8f7d5",
      "metadata": {
        "tags": [],
        "id": "ea462999-f87e-4a7e-a057-5be7b6d8f7d5"
      },
      "outputs": [],
      "source": [
        "# print('~'*100, 'REAL TEXT')\n",
        "# [tf.strings.reduce_join([num_to_char(word) for word in sentence]) for sentence in sample[1]]"
      ]
    },
    {
      "cell_type": "code",
      "execution_count": 71,
      "id": "82bd4c10-dd6e-411e-834b-2a3b43fd12c5",
      "metadata": {
        "tags": [],
        "id": "82bd4c10-dd6e-411e-834b-2a3b43fd12c5"
      },
      "outputs": [],
      "source": [
        "# decoded = tf.keras.backend.ctc_decode(yhat, input_length=[75,75], greedy=True)[0][0].numpy()"
      ]
    },
    {
      "cell_type": "code",
      "execution_count": 72,
      "id": "5d68ac46-c90b-4eab-a709-f19aee569ff5",
      "metadata": {
        "tags": [],
        "id": "5d68ac46-c90b-4eab-a709-f19aee569ff5"
      },
      "outputs": [],
      "source": [
        "# print('~'*100, 'PREDICTIONS')\n",
        "# [tf.strings.reduce_join([num_to_char(word) for word in sentence]) for sentence in decoded]"
      ]
    },
    {
      "cell_type": "markdown",
      "id": "64622f98-e99b-4fed-a2cc-f0da82eb5431",
      "metadata": {
        "id": "64622f98-e99b-4fed-a2cc-f0da82eb5431"
      },
      "source": [
        "# Test on a Video"
      ]
    },
    {
      "cell_type": "code",
      "execution_count": 89,
      "id": "a8b0c4d0-2031-4331-b91d-d87b1ae6f6e2",
      "metadata": {
        "id": "a8b0c4d0-2031-4331-b91d-d87b1ae6f6e2"
      },
      "outputs": [],
      "source": [
        "sample = load_data(tf.convert_to_tensor('/content/data/s1/Maheesha_02.mp4'))"
      ]
    },
    {
      "cell_type": "code",
      "execution_count": 90,
      "id": "0cca60e4-47a9-4683-8a75-48f4684f723d",
      "metadata": {
        "id": "0cca60e4-47a9-4683-8a75-48f4684f723d",
        "colab": {
          "base_uri": "https://localhost:8080/"
        },
        "outputId": "b3d66649-0ac1-4180-dffb-5e28a7b51901"
      },
      "outputs": [
        {
          "output_type": "stream",
          "name": "stdout",
          "text": [
            "~~~~~~~~~~~~~~~~~~~~~~~~~~~~~~~~~~~~~~~~~~~~~~~~~~~~~~~~~~~~~~~~~~~~~~~~~~~~~~~~~~~~~~~~~~~~~~~~~~~~ REAL TEXT\n"
          ]
        },
        {
          "output_type": "execute_result",
          "data": {
            "text/plain": [
              "[<tf.Tensor: shape=(), dtype=string, numpy=b'\\xe0\\xb6\\xaf\\xe0\\xb6\\x9a'>]"
            ]
          },
          "metadata": {},
          "execution_count": 90
        }
      ],
      "source": [
        "print('~'*100, 'REAL TEXT')\n",
        "[tf.strings.reduce_join([num_to_char(word) for word in sentence]) for sentence in [sample[1]]]"
      ]
    },
    {
      "cell_type": "code",
      "source": [
        "[sample[1]]"
      ],
      "metadata": {
        "id": "TtD2GpuTYOEW",
        "colab": {
          "base_uri": "https://localhost:8080/"
        },
        "outputId": "5ed21348-7c21-4127-c527-554ea6eeead9"
      },
      "id": "TtD2GpuTYOEW",
      "execution_count": 91,
      "outputs": [
        {
          "output_type": "execute_result",
          "data": {
            "text/plain": [
              "[<tf.Tensor: shape=(5,), dtype=int64, numpy=array([14,  0,  0,  2,  0])>]"
            ]
          },
          "metadata": {},
          "execution_count": 91
        }
      ]
    },
    {
      "cell_type": "code",
      "source": [
        "num_to_char_result = num_to_char(sample[1].numpy().tolist())\n",
        "[char.decode('utf-8') for char in num_to_char_result.numpy()]"
      ],
      "metadata": {
        "id": "INxQA0n4X7_e",
        "colab": {
          "base_uri": "https://localhost:8080/"
        },
        "outputId": "f03cc5b2-6499-4970-d1bc-cc1c40faccd4"
      },
      "id": "INxQA0n4X7_e",
      "execution_count": 92,
      "outputs": [
        {
          "output_type": "execute_result",
          "data": {
            "text/plain": [
              "['ද', '', '', 'ක', '']"
            ]
          },
          "metadata": {},
          "execution_count": 92
        }
      ]
    },
    {
      "cell_type": "code",
      "execution_count": 93,
      "id": "8cc5037c-1e32-435c-b0cc-01e1fb3b863c",
      "metadata": {
        "id": "8cc5037c-1e32-435c-b0cc-01e1fb3b863c",
        "colab": {
          "base_uri": "https://localhost:8080/"
        },
        "outputId": "6031981e-bb7d-43e6-a545-904d610eb347"
      },
      "outputs": [
        {
          "output_type": "stream",
          "name": "stdout",
          "text": [
            "1/1 [==============================] - 0s 380ms/step\n"
          ]
        }
      ],
      "source": [
        "yhat = model.predict(tf.expand_dims(sample[0], axis=0))"
      ]
    },
    {
      "cell_type": "code",
      "source": [
        "# yhat[0]"
      ],
      "metadata": {
        "id": "JHXW2SXRvS1R"
      },
      "id": "JHXW2SXRvS1R",
      "execution_count": 94,
      "outputs": []
    },
    {
      "cell_type": "code",
      "source": [
        "tf.strings.reduce_join([num_to_char(x) for x in tf.argmax(yhat[0],axis=1)])"
      ],
      "metadata": {
        "id": "vNdnwEdsvpDC",
        "colab": {
          "base_uri": "https://localhost:8080/"
        },
        "outputId": "9d4979b5-9782-4ee9-ba31-307b213b51cc"
      },
      "id": "vNdnwEdsvpDC",
      "execution_count": 95,
      "outputs": [
        {
          "output_type": "execute_result",
          "data": {
            "text/plain": [
              "<tf.Tensor: shape=(), dtype=string, numpy=b'\\xe0\\xb7\\x84'>"
            ]
          },
          "metadata": {},
          "execution_count": 95
        }
      ]
    },
    {
      "cell_type": "code",
      "execution_count": 96,
      "id": "22c4f77d-715d-409f-bc5e-3ebe48704e8f",
      "metadata": {
        "id": "22c4f77d-715d-409f-bc5e-3ebe48704e8f"
      },
      "outputs": [],
      "source": [
        "decoded = tf.keras.backend.ctc_decode(yhat, input_length=[35], greedy=True)[0][0].numpy()"
      ]
    },
    {
      "cell_type": "code",
      "source": [
        "decoded"
      ],
      "metadata": {
        "id": "8kLCGN1IY5to",
        "colab": {
          "base_uri": "https://localhost:8080/"
        },
        "outputId": "364342a5-ea16-4b35-b4fd-3c42f04dda9b"
      },
      "id": "8kLCGN1IY5to",
      "execution_count": 97,
      "outputs": [
        {
          "output_type": "execute_result",
          "data": {
            "text/plain": [
              "array([[ 6,  0,  0, -1, -1, -1, -1, -1, -1, -1, -1, -1, -1, -1, -1, -1,\n",
              "        -1, -1, -1, -1, -1, -1, -1, -1, -1, -1, -1, -1, -1, -1, -1, -1,\n",
              "        -1, -1, -1]])"
            ]
          },
          "metadata": {},
          "execution_count": 97
        }
      ]
    },
    {
      "cell_type": "code",
      "execution_count": 82,
      "id": "e4d12ecc-b634-499e-a4bc-db9f010835fb",
      "metadata": {
        "id": "e4d12ecc-b634-499e-a4bc-db9f010835fb",
        "colab": {
          "base_uri": "https://localhost:8080/"
        },
        "outputId": "cb3efe7d-be16-4ac5-c961-053b19fbbcd1"
      },
      "outputs": [
        {
          "output_type": "stream",
          "name": "stdout",
          "text": [
            "~~~~~~~~~~~~~~~~~~~~~~~~~~~~~~~~~~~~~~~~~~~~~~~~~~~~~~~~~~~~~~~~~~~~~~~~~~~~~~~~~~~~~~~~~~~~~~~~~~~~ PREDICTIONS\n"
          ]
        },
        {
          "output_type": "execute_result",
          "data": {
            "text/plain": [
              "[<tf.Tensor: shape=(), dtype=string, numpy=b'\\xe0\\xb7\\x84'>]"
            ]
          },
          "metadata": {},
          "execution_count": 82
        }
      ],
      "source": [
        "print('~'*100, 'PREDICTIONS')\n",
        "[tf.strings.reduce_join([num_to_char(word) for word in sentence]) for sentence in decoded]"
      ]
    },
    {
      "cell_type": "code",
      "source": [
        "a = (tf.strings.reduce_join([num_to_char(word) for word in sentence]) for sentence in decoded)"
      ],
      "metadata": {
        "id": "dcM3RYxEZrrt"
      },
      "id": "dcM3RYxEZrrt",
      "execution_count": 83,
      "outputs": []
    },
    {
      "cell_type": "code",
      "source": [
        "a"
      ],
      "metadata": {
        "id": "V05eEP5GZ455",
        "colab": {
          "base_uri": "https://localhost:8080/"
        },
        "outputId": "b75261fa-f6d8-4673-dc4b-20d0fd8e6005"
      },
      "id": "V05eEP5GZ455",
      "execution_count": 84,
      "outputs": [
        {
          "output_type": "execute_result",
          "data": {
            "text/plain": [
              "<generator object <genexpr> at 0x7ae644311690>"
            ]
          },
          "metadata": {},
          "execution_count": 84
        }
      ]
    },
    {
      "cell_type": "code",
      "source": [
        "# num_to_char_result =  num_to_char(decoded.numpy().tolist())\n",
        "[char.decode('utf-8') for char in a.numpy()]"
      ],
      "metadata": {
        "id": "JU47u9anZAF9",
        "colab": {
          "base_uri": "https://localhost:8080/",
          "height": 193
        },
        "outputId": "633f8ce0-4095-4eb9-8b17-3c81127bc0c2"
      },
      "id": "JU47u9anZAF9",
      "execution_count": 85,
      "outputs": [
        {
          "output_type": "error",
          "ename": "AttributeError",
          "evalue": "ignored",
          "traceback": [
            "\u001b[0;31m---------------------------------------------------------------------------\u001b[0m",
            "\u001b[0;31mAttributeError\u001b[0m                            Traceback (most recent call last)",
            "\u001b[0;32m<ipython-input-85-8bf444ca13d2>\u001b[0m in \u001b[0;36m<cell line: 2>\u001b[0;34m()\u001b[0m\n\u001b[1;32m      1\u001b[0m \u001b[0;31m# num_to_char_result =  num_to_char(decoded.numpy().tolist())\u001b[0m\u001b[0;34m\u001b[0m\u001b[0;34m\u001b[0m\u001b[0m\n\u001b[0;32m----> 2\u001b[0;31m \u001b[0;34m[\u001b[0m\u001b[0mchar\u001b[0m\u001b[0;34m.\u001b[0m\u001b[0mdecode\u001b[0m\u001b[0;34m(\u001b[0m\u001b[0;34m'utf-8'\u001b[0m\u001b[0;34m)\u001b[0m \u001b[0;32mfor\u001b[0m \u001b[0mchar\u001b[0m \u001b[0;32min\u001b[0m \u001b[0ma\u001b[0m\u001b[0;34m.\u001b[0m\u001b[0mnumpy\u001b[0m\u001b[0;34m(\u001b[0m\u001b[0;34m)\u001b[0m\u001b[0;34m]\u001b[0m\u001b[0;34m\u001b[0m\u001b[0;34m\u001b[0m\u001b[0m\n\u001b[0m",
            "\u001b[0;31mAttributeError\u001b[0m: 'generator' object has no attribute 'numpy'"
          ]
        }
      ]
    },
    {
      "cell_type": "code",
      "execution_count": null,
      "id": "551dfea2-de6b-4400-b71a-a17631529e3f",
      "metadata": {
        "id": "551dfea2-de6b-4400-b71a-a17631529e3f"
      },
      "outputs": [],
      "source": []
    },
    {
      "cell_type": "code",
      "execution_count": null,
      "id": "fa95863d-3832-47bf-8a77-ebaa38054ace",
      "metadata": {
        "id": "fa95863d-3832-47bf-8a77-ebaa38054ace"
      },
      "outputs": [],
      "source": []
    }
  ],
  "metadata": {
    "kernelspec": {
      "display_name": "lips",
      "language": "python",
      "name": "lips"
    },
    "language_info": {
      "codemirror_mode": {
        "name": "ipython",
        "version": 3
      },
      "file_extension": ".py",
      "mimetype": "text/x-python",
      "name": "python",
      "nbconvert_exporter": "python",
      "pygments_lexer": "ipython3",
      "version": "3.9.12"
    },
    "colab": {
      "provenance": [],
      "gpuType": "T4",
      "include_colab_link": true
    },
    "accelerator": "GPU"
  },
  "nbformat": 4,
  "nbformat_minor": 5
}